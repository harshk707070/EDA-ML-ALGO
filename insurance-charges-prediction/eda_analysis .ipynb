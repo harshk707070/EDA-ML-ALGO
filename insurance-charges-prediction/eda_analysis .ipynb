{
  "cells": [
    {
      "cell_type": "markdown",
      "metadata": {
        "id": "ljjXtNenaJnM"
      },
      "source": [
        "# Exploratory Data Analysis\n",
        "\n",
        "---\n",
        "\n",
        "**Dataset: Insurance Charges**\n",
        "\n",
        "**A detailed look into the Insurance dataset to understand structure, detect patterns, and guide preprocessing steps.**"
      ]
    },
    {
      "cell_type": "code",
      "execution_count": 1,
      "metadata": {
        "colab": {
          "base_uri": "https://localhost:8080/"
        },
        "collapsed": true,
        "id": "KMDnPZ4Sf7QO",
        "outputId": "4580f7ba-f71c-47f5-c993-61bf7f60bc49"
      },
      "outputs": [
        {
          "name": "stdout",
          "output_type": "stream",
          "text": [
            "Requirement already satisfied: pandas in c:\\users\\harsh\\anaconda3\\lib\\site-packages (2.3.0)\n",
            "Requirement already satisfied: numpy in c:\\users\\harsh\\anaconda3\\lib\\site-packages (2.3.0)\n",
            "Requirement already satisfied: matplotlib in c:\\users\\harsh\\anaconda3\\lib\\site-packages (3.10.3)\n",
            "Requirement already satisfied: seaborn in c:\\users\\harsh\\anaconda3\\lib\\site-packages (0.13.2)\n",
            "Requirement already satisfied: plotly in c:\\users\\harsh\\anaconda3\\lib\\site-packages (6.1.2)\n",
            "Requirement already satisfied: python-dateutil>=2.8.2 in c:\\users\\harsh\\appdata\\roaming\\python\\python312\\site-packages (from pandas) (2.9.0.post0)\n",
            "Requirement already satisfied: pytz>=2020.1 in c:\\users\\harsh\\anaconda3\\lib\\site-packages (from pandas) (2024.1)\n",
            "Requirement already satisfied: tzdata>=2022.7 in c:\\users\\harsh\\anaconda3\\lib\\site-packages (from pandas) (2025.2)\n",
            "Requirement already satisfied: contourpy>=1.0.1 in c:\\users\\harsh\\anaconda3\\lib\\site-packages (from matplotlib) (1.3.2)\n",
            "Requirement already satisfied: cycler>=0.10 in c:\\users\\harsh\\anaconda3\\lib\\site-packages (from matplotlib) (0.12.1)\n",
            "Requirement already satisfied: fonttools>=4.22.0 in c:\\users\\harsh\\anaconda3\\lib\\site-packages (from matplotlib) (4.58.2)\n",
            "Requirement already satisfied: kiwisolver>=1.3.1 in c:\\users\\harsh\\anaconda3\\lib\\site-packages (from matplotlib) (1.4.8)\n",
            "Requirement already satisfied: packaging>=20.0 in c:\\users\\harsh\\appdata\\roaming\\python\\python312\\site-packages (from matplotlib) (24.0)\n",
            "Requirement already satisfied: pillow>=8 in c:\\users\\harsh\\anaconda3\\lib\\site-packages (from matplotlib) (10.4.0)\n",
            "Requirement already satisfied: pyparsing>=2.3.1 in c:\\users\\harsh\\anaconda3\\lib\\site-packages (from matplotlib) (3.2.3)\n",
            "Requirement already satisfied: narwhals>=1.15.1 in c:\\users\\harsh\\anaconda3\\lib\\site-packages (from plotly) (1.42.0)\n",
            "Requirement already satisfied: six>=1.5 in c:\\users\\harsh\\appdata\\roaming\\python\\python312\\site-packages (from python-dateutil>=2.8.2->pandas) (1.16.0)\n"
          ]
        }
      ],
      "source": [
        "# Install Packages\n",
        "!pip install pandas numpy matplotlib seaborn plotly"
      ]
    },
    {
      "cell_type": "code",
      "execution_count": 2,
      "metadata": {
        "id": "nK9sSLuKbgi7"
      },
      "outputs": [],
      "source": [
        "# Import Libraries\n",
        "\n",
        "import pandas as pd\n",
        "import numpy as np\n",
        "import seaborn as sns\n",
        "import matplotlib.pyplot as plt\n",
        "import plotly.express as px"
      ]
    },
    {
      "cell_type": "code",
      "execution_count": 3,
      "metadata": {
        "id": "B3ewRSFha9m8"
      },
      "outputs": [],
      "source": [
        "# Set plot styles\n",
        "# Sets a clean visual style for all seaborn plots\n",
        "\n",
        "sns.set(style = \"whitegrid\")\n",
        "plt.rcParams[\"figure.figsize\"] = (10, 5)"
      ]
    },
    {
      "cell_type": "code",
      "execution_count": 6,
      "metadata": {
        "colab": {
          "base_uri": "https://localhost:8080/",
          "height": 206
        },
        "id": "oG5w2NZ7btxa",
        "outputId": "3de41730-f0c1-4d12-970f-5fdb0cb0f42f"
      },
      "outputs": [
        {
          "data": {
            "text/html": [
              "<div>\n",
              "<style scoped>\n",
              "    .dataframe tbody tr th:only-of-type {\n",
              "        vertical-align: middle;\n",
              "    }\n",
              "\n",
              "    .dataframe tbody tr th {\n",
              "        vertical-align: top;\n",
              "    }\n",
              "\n",
              "    .dataframe thead th {\n",
              "        text-align: right;\n",
              "    }\n",
              "</style>\n",
              "<table border=\"1\" class=\"dataframe\">\n",
              "  <thead>\n",
              "    <tr style=\"text-align: right;\">\n",
              "      <th></th>\n",
              "      <th>age</th>\n",
              "      <th>sex</th>\n",
              "      <th>bmi</th>\n",
              "      <th>children</th>\n",
              "      <th>smoker</th>\n",
              "      <th>region</th>\n",
              "      <th>charges</th>\n",
              "    </tr>\n",
              "  </thead>\n",
              "  <tbody>\n",
              "    <tr>\n",
              "      <th>0</th>\n",
              "      <td>19</td>\n",
              "      <td>female</td>\n",
              "      <td>27.900</td>\n",
              "      <td>0</td>\n",
              "      <td>yes</td>\n",
              "      <td>southwest</td>\n",
              "      <td>16884.92400</td>\n",
              "    </tr>\n",
              "    <tr>\n",
              "      <th>1</th>\n",
              "      <td>18</td>\n",
              "      <td>male</td>\n",
              "      <td>33.770</td>\n",
              "      <td>1</td>\n",
              "      <td>no</td>\n",
              "      <td>southeast</td>\n",
              "      <td>1725.55230</td>\n",
              "    </tr>\n",
              "    <tr>\n",
              "      <th>2</th>\n",
              "      <td>28</td>\n",
              "      <td>male</td>\n",
              "      <td>33.000</td>\n",
              "      <td>3</td>\n",
              "      <td>no</td>\n",
              "      <td>southeast</td>\n",
              "      <td>4449.46200</td>\n",
              "    </tr>\n",
              "    <tr>\n",
              "      <th>3</th>\n",
              "      <td>33</td>\n",
              "      <td>male</td>\n",
              "      <td>22.705</td>\n",
              "      <td>0</td>\n",
              "      <td>no</td>\n",
              "      <td>northwest</td>\n",
              "      <td>21984.47061</td>\n",
              "    </tr>\n",
              "    <tr>\n",
              "      <th>4</th>\n",
              "      <td>32</td>\n",
              "      <td>male</td>\n",
              "      <td>28.880</td>\n",
              "      <td>0</td>\n",
              "      <td>no</td>\n",
              "      <td>northwest</td>\n",
              "      <td>3866.85520</td>\n",
              "    </tr>\n",
              "  </tbody>\n",
              "</table>\n",
              "</div>"
            ],
            "text/plain": [
              "   age     sex     bmi  children smoker     region      charges\n",
              "0   19  female  27.900         0    yes  southwest  16884.92400\n",
              "1   18    male  33.770         1     no  southeast   1725.55230\n",
              "2   28    male  33.000         3     no  southeast   4449.46200\n",
              "3   33    male  22.705         0     no  northwest  21984.47061\n",
              "4   32    male  28.880         0     no  northwest   3866.85520"
            ]
          },
          "execution_count": 6,
          "metadata": {},
          "output_type": "execute_result"
        }
      ],
      "source": [
        "# Reading CSV file using Pandas\n",
        "df = pd.read_csv('C:/Users/harsh/Downloads/AlmaBetter/EDA-ML-ALGO/insurance-charges-prediction/data/insurance.csv')\n",
        "# First 5 rows to get an idea of the data structure\n",
        "df.head()"
      ]
    },
    {
      "cell_type": "code",
      "execution_count": 7,
      "metadata": {
        "colab": {
          "base_uri": "https://localhost:8080/"
        },
        "id": "Py_jSWOhcN81",
        "outputId": "0bf74a3d-ba29-4cc6-c868-0f59ad2ce898"
      },
      "outputs": [
        {
          "name": "stdout",
          "output_type": "stream",
          "text": [
            "Dataset Shape:  (1338, 7) \n",
            "\n",
            "<class 'pandas.core.frame.DataFrame'>\n",
            "RangeIndex: 1338 entries, 0 to 1337\n",
            "Data columns (total 7 columns):\n",
            " #   Column    Non-Null Count  Dtype  \n",
            "---  ------    --------------  -----  \n",
            " 0   age       1338 non-null   int64  \n",
            " 1   sex       1338 non-null   object \n",
            " 2   bmi       1338 non-null   float64\n",
            " 3   children  1338 non-null   int64  \n",
            " 4   smoker    1338 non-null   object \n",
            " 5   region    1338 non-null   object \n",
            " 6   charges   1338 non-null   float64\n",
            "dtypes: float64(2), int64(2), object(3)\n",
            "memory usage: 73.3+ KB\n"
          ]
        }
      ],
      "source": [
        "# Information and dimensions of dataset\n",
        "\n",
        "print(\"Dataset Shape: \", df.shape, \"\\n\")\n",
        "df.info()"
      ]
    },
    {
      "cell_type": "markdown",
      "metadata": {
        "id": "EhnMCR-kA9iG"
      },
      "source": [
        "\n",
        "*   .shape -> total rows & columns  \n",
        "   \n",
        "*   .info() -> column types, missing values, etc.\n",
        "\n"
      ]
    },
    {
      "cell_type": "code",
      "execution_count": 8,
      "metadata": {
        "colab": {
          "base_uri": "https://localhost:8080/",
          "height": 300
        },
        "id": "qAA1sKNphh-O",
        "outputId": "47b8b5b0-0d5b-4048-85b9-43067347880d"
      },
      "outputs": [
        {
          "data": {
            "text/html": [
              "<div>\n",
              "<style scoped>\n",
              "    .dataframe tbody tr th:only-of-type {\n",
              "        vertical-align: middle;\n",
              "    }\n",
              "\n",
              "    .dataframe tbody tr th {\n",
              "        vertical-align: top;\n",
              "    }\n",
              "\n",
              "    .dataframe thead th {\n",
              "        text-align: right;\n",
              "    }\n",
              "</style>\n",
              "<table border=\"1\" class=\"dataframe\">\n",
              "  <thead>\n",
              "    <tr style=\"text-align: right;\">\n",
              "      <th></th>\n",
              "      <th>age</th>\n",
              "      <th>bmi</th>\n",
              "      <th>children</th>\n",
              "      <th>charges</th>\n",
              "    </tr>\n",
              "  </thead>\n",
              "  <tbody>\n",
              "    <tr>\n",
              "      <th>count</th>\n",
              "      <td>1338.000000</td>\n",
              "      <td>1338.000000</td>\n",
              "      <td>1338.000000</td>\n",
              "      <td>1338.000000</td>\n",
              "    </tr>\n",
              "    <tr>\n",
              "      <th>mean</th>\n",
              "      <td>39.207025</td>\n",
              "      <td>30.663397</td>\n",
              "      <td>1.094918</td>\n",
              "      <td>13270.422265</td>\n",
              "    </tr>\n",
              "    <tr>\n",
              "      <th>std</th>\n",
              "      <td>14.049960</td>\n",
              "      <td>6.098187</td>\n",
              "      <td>1.205493</td>\n",
              "      <td>12110.011237</td>\n",
              "    </tr>\n",
              "    <tr>\n",
              "      <th>min</th>\n",
              "      <td>18.000000</td>\n",
              "      <td>15.960000</td>\n",
              "      <td>0.000000</td>\n",
              "      <td>1121.873900</td>\n",
              "    </tr>\n",
              "    <tr>\n",
              "      <th>25%</th>\n",
              "      <td>27.000000</td>\n",
              "      <td>26.296250</td>\n",
              "      <td>0.000000</td>\n",
              "      <td>4740.287150</td>\n",
              "    </tr>\n",
              "    <tr>\n",
              "      <th>50%</th>\n",
              "      <td>39.000000</td>\n",
              "      <td>30.400000</td>\n",
              "      <td>1.000000</td>\n",
              "      <td>9382.033000</td>\n",
              "    </tr>\n",
              "    <tr>\n",
              "      <th>75%</th>\n",
              "      <td>51.000000</td>\n",
              "      <td>34.693750</td>\n",
              "      <td>2.000000</td>\n",
              "      <td>16639.912515</td>\n",
              "    </tr>\n",
              "    <tr>\n",
              "      <th>max</th>\n",
              "      <td>64.000000</td>\n",
              "      <td>53.130000</td>\n",
              "      <td>5.000000</td>\n",
              "      <td>63770.428010</td>\n",
              "    </tr>\n",
              "  </tbody>\n",
              "</table>\n",
              "</div>"
            ],
            "text/plain": [
              "               age          bmi     children       charges\n",
              "count  1338.000000  1338.000000  1338.000000   1338.000000\n",
              "mean     39.207025    30.663397     1.094918  13270.422265\n",
              "std      14.049960     6.098187     1.205493  12110.011237\n",
              "min      18.000000    15.960000     0.000000   1121.873900\n",
              "25%      27.000000    26.296250     0.000000   4740.287150\n",
              "50%      39.000000    30.400000     1.000000   9382.033000\n",
              "75%      51.000000    34.693750     2.000000  16639.912515\n",
              "max      64.000000    53.130000     5.000000  63770.428010"
            ]
          },
          "execution_count": 8,
          "metadata": {},
          "output_type": "execute_result"
        }
      ],
      "source": [
        "# Statistical Summary of Data\n",
        "\n",
        "df.describe()"
      ]
    },
    {
      "cell_type": "markdown",
      "metadata": {
        "id": "2hxB9BobAh7Z"
      },
      "source": [
        "\n",
        "*   This shapes our expectations and alerts us to clean the data if needed.\n",
        "*   summaries for numeric columns: mean, std, min, max, etc\n",
        "\n"
      ]
    },
    {
      "cell_type": "code",
      "execution_count": 10,
      "metadata": {
        "colab": {
          "base_uri": "https://localhost:8080/"
        },
        "id": "itLDDxqAiBAd",
        "outputId": "ecdd06fc-98cd-4c86-d352-0c06f20c94fb"
      },
      "outputs": [
        {
          "name": "stdout",
          "output_type": "stream",
          "text": [
            "Missing Values: \n",
            " age         0\n",
            "sex         0\n",
            "bmi         0\n",
            "children    0\n",
            "smoker      0\n",
            "region      0\n",
            "charges     0\n",
            "dtype: int64\n",
            "\n",
            "Duplicate Values:  1\n",
            "\n",
            "Duplicated rows:\n",
            "      age   sex    bmi  children smoker     region    charges\n",
            "581   19  male  30.59         0     no  northwest  1639.5631\n"
          ]
        }
      ],
      "source": [
        "# Checking for Missing and Duplicate data\n",
        "\n",
        "print(\"Missing Values: \\n\", df.isnull().sum())\n",
        "print(\"\\nDuplicate Values: \", df.duplicated().sum())\n",
        "\n",
        "duplicated_rows = df[df.duplicated()]\n",
        "print(\"\\nDuplicated rows:\\n\", duplicated_rows)\n"
      ]
    },
    {
      "cell_type": "markdown",
      "metadata": {
        "id": "Wh7AtDQ2ALvw"
      },
      "source": [
        "\n",
        "\n",
        "*   isnull().sum() -> counts nulls per column  \n",
        "*   duplicated().sum() -> counts exact repeated rows\n",
        "\n"
      ]
    },
    {
      "cell_type": "code",
      "execution_count": 11,
      "metadata": {
        "colab": {
          "base_uri": "https://localhost:8080/"
        },
        "id": "7T0PQPPJivcA",
        "outputId": "80a89c77-7e86-4d40-c90b-41cecf3b90e0"
      },
      "outputs": [
        {
          "name": "stdout",
          "output_type": "stream",
          "text": [
            "Duplicate rows after cleanup:  0\n"
          ]
        }
      ],
      "source": [
        "# Cleaning Duplicate Rows (if any)\n",
        "\n",
        "df.drop_duplicates(inplace=True)\n",
        "\n",
        "print(\"Duplicate rows after cleanup: \", df.duplicated().sum())"
      ]
    },
    {
      "cell_type": "markdown",
      "metadata": {
        "id": "ZTWCx6N10x-k"
      },
      "source": [
        "\n",
        "*   No missing values\n",
        "*   Found 1 duplicate row - removed using drop_duplicates()\n",
        "\n"
      ]
    },
    {
      "cell_type": "code",
      "execution_count": 12,
      "metadata": {
        "colab": {
          "base_uri": "https://localhost:8080/",
          "height": 1000
        },
        "id": "4G5Pn9_q1dX4",
        "outputId": "ef59b9d2-ad42-4bca-ef9d-28b234b2580c"
      },
      "outputs": [
        {
          "data": {
            "image/png": "[encoded data removed]",
            "text/plain": [
              "<Figure size 1000x500 with 1 Axes>"
            ]
          },
          "metadata": {},
          "output_type": "display_data"
        },
        {
          "data": {
            "image/png": "[encoded data removed]",
            "text/plain": [
              "<Figure size 1000x500 with 1 Axes>"
            ]
          },
          "metadata": {},
          "output_type": "display_data"
        },
        {
          "data": {
            "image/png": "[encoded data removed]",
            "text/plain": [
              "<Figure size 1000x500 with 1 Axes>"
            ]
          },
          "metadata": {},
          "output_type": "display_data"
        }
      ],
      "source": [
        "# Analyzing Individual Number Columns\n",
        "\n",
        "for col in ['age', 'bmi', 'charges']:\n",
        "  sns.histplot(data = df, x = col, kde = True)\n",
        "  plt.title(f'Distribution of {col}')\n",
        "  plt.xlabel(col)\n",
        "  plt.ylabel(\"Frequency\")\n",
        "  plt.show()"
      ]
    },
    {
      "cell_type": "markdown",
      "metadata": {
        "id": "PHf5u5LOE5t_"
      },
      "source": [
        "\n",
        "\n",
        "* histplot → bar graph of value frequencies  \n",
        "\n",
        "* kde=True → smooth distribution curve\n",
        "\n",
        "* It shows if features are normally distributed or skewed.\n",
        "\n"
      ]
    },
    {
      "cell_type": "code",
      "execution_count": 13,
      "metadata": {
        "colab": {
          "base_uri": "https://localhost:8080/",
          "height": 1000
        },
        "id": "tUKfqR1MFXlP",
        "outputId": "37efe7d6-faea-4594-dec7-0afea7356fa6"
      },
      "outputs": [
        {
          "data": {
            "image/png": "[encoded data removed]",
            "text/plain": [
              "<Figure size 1000x500 with 1 Axes>"
            ]
          },
          "metadata": {},
          "output_type": "display_data"
        },
        {
          "data": {
            "image/png": "[encoded data removed]",
            "text/plain": [
              "<Figure size 1000x500 with 1 Axes>"
            ]
          },
          "metadata": {},
          "output_type": "display_data"
        },
        {
          "data": {
            "image/png": "[encoded data removed]",
            "text/plain": [
              "<Figure size 1000x500 with 1 Axes>"
            ]
          },
          "metadata": {},
          "output_type": "display_data"
        },
        {
          "data": {
            "image/png": "[encoded data removed]",
            "text/plain": [
              "<Figure size 1000x500 with 1 Axes>"
            ]
          },
          "metadata": {},
          "output_type": "display_data"
        }
      ],
      "source": [
        "# Categorical Analysis\n",
        "\n",
        "for col in ['sex', 'children', 'smoker', 'region']:\n",
        "  sns.countplot(data = df, x = col)\n",
        "  plt.title(f'Distribution of {col}')\n",
        "  plt.xlabel(col)\n",
        "  plt.ylabel(\"Count\")\n",
        "  plt.show()"
      ]
    },
    {
      "cell_type": "markdown",
      "metadata": {
        "id": "akUgHCoxF5Pe"
      },
      "source": [
        "* countplot → bar plot of category counts\n",
        "* It shows which groups dominate and where imbalance may exist."
      ]
    },
    {
      "cell_type": "code",
      "execution_count": 16,
      "metadata": {
        "colab": {
          "base_uri": "https://localhost:8080/",
          "height": 360
        },
        "id": "qQ_v2sJrGGTU",
        "outputId": "9a10ff6b-c855-4dd6-f9dd-935caab3d19e"
      },
      "outputs": [
        {
          "data": {
            "image/png": "[encoded data removed]",
            "text/plain": [
              "<Figure size 1000x500 with 1 Axes>"
            ]
          },
          "metadata": {},
          "output_type": "display_data"
        }
      ],
      "source": [
        "# Charges vs Other Features: How Charges changes with other factors\n",
        "\n",
        "# Charges by Smoker Status\n",
        "sns.boxplot(x='smoker', y='charges', data=df)\n",
        "plt.title(\"Charges by Smoker Status\")\n",
        "plt.show()"
      ]
    },
    {
      "cell_type": "code",
      "execution_count": 17,
      "metadata": {
        "colab": {
          "base_uri": "https://localhost:8080/",
          "height": 360
        },
        "id": "DNkhrALwHgkw",
        "outputId": "48935aab-8b83-4351-b296-fce488738b96"
      },
      "outputs": [
        {
          "data": {
            "image/png": "[encoded data removed]",
            "text/plain": [
              "<Figure size 1000x500 with 1 Axes>"
            ]
          },
          "metadata": {},
          "output_type": "display_data"
        }
      ],
      "source": [
        "# Charges by Sex Status\n",
        "sns.boxplot(x='sex', y='charges', data=df)\n",
        "plt.title(\"Charges by Gender\")\n",
        "plt.show()\n"
      ]
    },
    {
      "cell_type": "code",
      "execution_count": 18,
      "metadata": {
        "colab": {
          "base_uri": "https://localhost:8080/",
          "height": 523
        },
        "id": "MFr-NO8zHmiO",
        "outputId": "1571a31b-230f-4220-f87e-7fc657b298ac"
      },
      "outputs": [
        {
          "data": {
            "image/png": "[encoded data removed]",
            "text/plain": [
              "<Figure size 500x500 with 1 Axes>"
            ]
          },
          "metadata": {},
          "output_type": "display_data"
        }
      ],
      "source": [
        "\n",
        "# Charges by Age Status\n",
        "sns.lmplot(x='age', y='charges', data=df)\n",
        "plt.title(\"Age vs Charges\")\n",
        "plt.show()\n"
      ]
    },
    {
      "cell_type": "code",
      "execution_count": 19,
      "metadata": {
        "colab": {
          "base_uri": "https://localhost:8080/",
          "height": 522
        },
        "id": "CEO1plPmHqc-",
        "outputId": "68093fb9-a687-4a49-b698-0a062ce01303"
      },
      "outputs": [
        {
          "data": {
            "image/png": "[encoded data removed]",
            "text/plain": [
              "<Figure size 578.875x500 with 1 Axes>"
            ]
          },
          "metadata": {},
          "output_type": "display_data"
        }
      ],
      "source": [
        "# Charges by BMI Status (smoker colored)\n",
        "sns.lmplot(x='bmi', y='charges', hue='smoker', data=df)\n",
        "plt.title(\"BMI vs Charges (Smoker vs Non-Smoker)\")\n",
        "plt.show()"
      ]
    },
    {
      "cell_type": "markdown",
      "metadata": {
        "id": "ErLGdj8tG-d-"
      },
      "source": [
        "* Boxplots show value range per category  \n",
        "* lmplot = scatterplot + regression line\n",
        "* Smoker status shows how huge are the charge gaps\n",
        "* Linear trends help us guess whether age or BMI affects pricing steadily."
      ]
    },
    {
      "cell_type": "code",
      "execution_count": 20,
      "metadata": {
        "colab": {
          "base_uri": "https://localhost:8080/",
          "height": 392
        },
        "id": "fcS1Zb25IM_e",
        "outputId": "2fe4204c-7a8d-47ec-ea45-69b32bb4c833"
      },
      "outputs": [
        {
          "data": {
            "image/png": "[encoded data removed]",
            "text/plain": [
              "<Figure size 1000x500 with 2 Axes>"
            ]
          },
          "metadata": {},
          "output_type": "display_data"
        }
      ],
      "source": [
        "# Correlation Heatmap\n",
        "\n",
        "# Select only numeric columns for correlation\n",
        "numeric_df = df.select_dtypes(include=['int64', 'float64'])\n",
        "\n",
        "correlation_matrix = numeric_df.corr()\n",
        "\n",
        "sns.heatmap(correlation_matrix, annot=True, cmap='coolwarm', fmt=\".2f\")\n",
        "plt.title(\"Correlation Heatmap (Numeric Features)\")\n",
        "plt.show()\n"
      ]
    },
    {
      "cell_type": "markdown",
      "metadata": {
        "id": "nLvQeUGdIc29"
      },
      "source": [
        "* .corr() → This shows how strongly numerical columns relate to each other, using Pearson correlation coefficient.\n",
        "\n",
        "* Heatmap Value range shows strength/direction:\n",
        "\n",
        "  * +1 = strong positive\n",
        "  * 0 = no correlation\n",
        "  * -1 = strong negative"
      ]
    },
    {
      "cell_type": "code",
      "execution_count": 21,
      "metadata": {
        "colab": {
          "base_uri": "https://localhost:8080/",
          "height": 702
        },
        "id": "rVw3EQBKKQMF",
        "outputId": "9390771a-932c-4826-88a6-a2645cc9e036"
      },
      "outputs": [
        {
          "data": {
            "image/png": "[encoded data removed]",
            "text/plain": [
              "<Figure size 1000x500 with 1 Axes>"
            ]
          },
          "metadata": {},
          "output_type": "display_data"
        },
        {
          "data": {
            "image/png": "[encoded data removed]",
            "text/plain": [
              "<Figure size 1000x500 with 1 Axes>"
            ]
          },
          "metadata": {},
          "output_type": "display_data"
        }
      ],
      "source": [
        "# Region & Age Group Analysis\n",
        "# Average Charges by group\n",
        "\n",
        "# Region-wise charges\n",
        "sns.barplot(x='region', y='charges', data=df, estimator=np.mean)\n",
        "plt.title(\"Average Charges by Region\")\n",
        "plt.show()\n",
        "\n",
        "# Age-group wise charges\n",
        "df['age_group'] = pd.cut(df['age'], bins=[17, 25, 35, 45, 55, 65],\n",
        "                  labels=[\"18–25\", \"26–35\", \"36–45\", \"46–55\", \"56–65\"])\n",
        "sns.boxplot(x='age_group', y='charges', data=df)\n",
        "plt.title(\"Charges by Age Group\")\n",
        "plt.show()"
      ]
    },
    {
      "cell_type": "markdown",
      "metadata": {
        "id": "ZxAfY6zEKQ3b"
      },
      "source": [
        "* Barplot = average charges by category  \n",
        "* pd.cut() groups age into buckets\n",
        "* To check Impact of Age group, Regional impact"
      ]
    },
    {
      "cell_type": "code",
      "execution_count": 22,
      "metadata": {
        "colab": {
          "base_uri": "https://localhost:8080/",
          "height": 542
        },
        "id": "1iTmzA1xLMN8",
        "outputId": "3bf0ba6f-a568-45d8-da6e-fefe9d0d5235"
      },
      "outputs": [
        {
          "data": {
            "application/vnd.plotly.v1+json": {
              "config": {
                "plotlyServerURL": "https://plot.ly"
              },
              "data": [
                {
                  "customdata": [
                    [
                      "female",
                      "southwest"
                    ],
                    [
                      "female",
                      "southeast"
                    ],
                    [
                      "male",
                      "southeast"
                    ],
                    [
                      "male",
                      "southwest"
                    ],
                    [
                      "female",
                      "northeast"
                    ],
                    [
                      "male",
                      "southwest"
                    ],
                    [
                      "male",
                      "southwest"
                    ],
                    [
                      "male",
                      "southwest"
                    ],
                    [
                      "male",
                      "northeast"
                    ],
                    [
                      "male",
                      "southwest"
                    ],
                    [
                      "male",
                      "southeast"
                    ],
                    [
                      "male",
                      "southwest"
                    ],
                    [
                      "male",
                      "southeast"
                    ],
                    [
                      "male",
                      "northwest"
                    ],
                    [
                      "male",
                      "southeast"
                    ],
                    [
                      "female",
                      "southeast"
                    ],
                    [
                      "female",
                      "northwest"
                    ],
                    [
                      "male",
                      "southeast"
                    ],
                    [
                      "female",
                      "southeast"
                    ],
                    [
                      "male",
                      "southeast"
                    ],
                    [
                      "female",
                      "southwest"
                    ],
                    [
                      "male",
                      "northwest"
                    ],
                    [
                      "female",
                      "northwest"
                    ],
                    [
                      "male",
                      "northeast"
                    ],
                    [
                      "female",
                      "southwest"
                    ],
                    [
                      "male",
                      "northeast"
                    ],
                    [
                      "male",
                      "southwest"
                    ],
                    [
                      "female",
                      "southeast"
                    ],
                    [
                      "male",
                      "northwest"
                    ],
                    [
                      "male",
                      "southeast"
                    ],
                    [
                      "female",
                      "southeast"
                    ],
                    [
                      "male",
                      "northeast"
                    ],
                    [
                      "female",
                      "southwest"
                    ],
                    [
                      "female",
                      "northwest"
                    ],
                    [
                      "male",
                      "southeast"
                    ],
                    [
                      "male",
                      "northwest"
                    ],
                    [
                      "male",
                      "northwest"
                    ],
                    [
                      "female",
                      "northeast"
                    ],
                    [
                      "male",
                      "southeast"
                    ],
                    [
                      "male",
                      "northeast"
                    ],
                    [
                      "male",
                      "southeast"
                    ],
                    [
                      "female",
                      "northwest"
                    ],
                    [
                      "female",
                      "southeast"
                    ],
                    [
                      "female",
                      "southwest"
                    ],
                    [
                      "male",
                      "northeast"
                    ],
                    [
                      "female",
                      "southeast"
                    ],
                    [
                      "male",
                      "northeast"
                    ],
                    [
                      "male",
                      "southwest"
                    ],
                    [
                      "male",
                      "southeast"
                    ],
                    [
                      "female",
                      "southeast"
                    ],
                    [
                      "male",
                      "northwest"
                    ],
                    [
                      "female",
                      "northeast"
                    ],
                    [
                      "female",
                      "northeast"
                    ],
                    [
                      "male",
                      "northeast"
                    ],
                    [
                      "female",
                      "southwest"
                    ],
                    [
                      "male",
                      "southeast"
                    ],
                    [
                      "male",
                      "northeast"
                    ],
                    [
                      "male",
                      "northwest"
                    ],
                    [
                      "male",
                      "northwest"
                    ],
                    [
                      "female",
                      "southeast"
                    ],
                    [
                      "male",
                      "northeast"
                    ],
                    [
                      "male",
                      "northwest"
                    ],
                    [
                      "male",
                      "southeast"
                    ],
                    [
                      "male",
                      "southeast"
                    ],
                    [
                      "male",
                      "southwest"
                    ],
                    [
                      "female",
                      "northeast"
                    ],
                    [
                      "male",
                      "northeast"
                    ],
                    [
                      "female",
                      "northeast"
                    ],
                    [
                      "male",
                      "southeast"
                    ],
                    [
                      "male",
                      "southwest"
                    ],
                    [
                      "male",
                      "southeast"
                    ],
                    [
                      "male",
                      "northwest"
                    ],
                    [
                      "female",
                      "northeast"
                    ],
                    [
                      "male",
                      "southeast"
                    ],
                    [
                      "female",
                      "southwest"
                    ],
                    [
                      "male",
                      "southwest"
                    ],
                    [
                      "male",
                      "northwest"
                    ],
                    [
                      "female",
                      "southwest"
                    ],
                    [
                      "female",
                      "northeast"
                    ],
                    [
                      "male",
                      "northwest"
                    ],
                    [
                      "male",
                      "northeast"
                    ],
                    [
                      "female",
                      "southwest"
                    ],
                    [
                      "male",
                      "southwest"
                    ],
                    [
                      "female",
                      "northwest"
                    ],
                    [
                      "female",
                      "northeast"
                    ],
                    [
                      "male",
                      "southeast"
                    ],
                    [
                      "female",
                      "northeast"
                    ],
                    [
                      "male",
                      "northeast"
                    ],
                    [
                      "female",
                      "northeast"
                    ],
                    [
                      "female",
                      "northeast"
                    ],
                    [
                      "female",
                      "southwest"
                    ],
                    [
                      "female",
                      "northwest"
                    ],
                    [
                      "male",
                      "southeast"
                    ],
                    [
                      "male",
                      "southeast"
                    ],
                    [
                      "male",
                      "northeast"
                    ],
                    [
                      "female",
                      "southwest"
                    ],
                    [
                      "male",
                      "northwest"
                    ],
                    [
                      "male",
                      "southwest"
                    ],
                    [
                      "female",
                      "southeast"
                    ],
                    [
                      "male",
                      "southwest"
                    ],
                    [
                      "male",
                      "northwest"
                    ],
                    [
                      "male",
                      "northeast"
                    ],
                    [
                      "female",
                      "southeast"
                    ],
                    [
                      "male",
                      "southwest"
                    ],
                    [
                      "male",
                      "southwest"
                    ],
                    [
                      "male",
                      "southeast"
                    ],
                    [
                      "male",
                      "southeast"
                    ],
                    [
                      "male",
                      "southwest"
                    ],
                    [
                      "male",
                      "southeast"
                    ],
                    [
                      "male",
                      "southeast"
                    ],
                    [
                      "female",
                      "southeast"
                    ],
                    [
                      "male",
                      "northwest"
                    ],
                    [
                      "female",
                      "southeast"
                    ],
                    [
                      "female",
                      "northwest"
                    ],
                    [
                      "male",
                      "northwest"
                    ],
                    [
                      "female",
                      "northeast"
                    ],
                    [
                      "female",
                      "northwest"
                    ],
                    [
                      "female",
                      "northeast"
                    ],
                    [
                      "female",
                      "northwest"
                    ],
                    [
                      "female",
                      "northwest"
                    ],
                    [
                      "male",
                      "southwest"
                    ],
                    [
                      "female",
                      "southeast"
                    ],
                    [
                      "male",
                      "southwest"
                    ],
                    [
                      "female",
                      "southeast"
                    ],
                    [
                      "male",
                      "southwest"
                    ],
                    [
                      "male",
                      "northeast"
                    ],
                    [
                      "female",
                      "northwest"
                    ],
                    [
                      "male",
                      "northeast"
                    ],
                    [
                      "male",
                      "northwest"
                    ],
                    [
                      "female",
                      "southeast"
                    ],
                    [
                      "female",
                      "southeast"
                    ],
                    [
                      "male",
                      "southeast"
                    ],
                    [
                      "female",
                      "northwest"
                    ],
                    [
                      "male",
                      "northeast"
                    ],
                    [
                      "female",
                      "southeast"
                    ],
                    [
                      "male",
                      "northwest"
                    ],
                    [
                      "male",
                      "southwest"
                    ],
                    [
                      "male",
                      "southeast"
                    ],
                    [
                      "male",
                      "southeast"
                    ],
                    [
                      "female",
                      "southeast"
                    ],
                    [
                      "female",
                      "southeast"
                    ],
                    [
                      "female",
                      "northeast"
                    ],
                    [
                      "male",
                      "southeast"
                    ],
                    [
                      "female",
                      "southeast"
                    ],
                    [
                      "male",
                      "northeast"
                    ],
                    [
                      "male",
                      "southwest"
                    ],
                    [
                      "male",
                      "southeast"
                    ],
                    [
                      "male",
                      "northeast"
                    ],
                    [
                      "female",
                      "southeast"
                    ],
                    [
                      "female",
                      "southeast"
                    ],
                    [
                      "male",
                      "southeast"
                    ],
                    [
                      "male",
                      "southwest"
                    ],
                    [
                      "female",
                      "northwest"
                    ],
                    [
                      "male",
                      "southwest"
                    ],
                    [
                      "female",
                      "southwest"
                    ],
                    [
                      "male",
                      "southeast"
                    ],
                    [
                      "male",
                      "northwest"
                    ],
                    [
                      "male",
                      "northeast"
                    ],
                    [
                      "female",
                      "southeast"
                    ],
                    [
                      "female",
                      "northeast"
                    ],
                    [
                      "female",
                      "northwest"
                    ],
                    [
                      "male",
                      "southeast"
                    ],
                    [
                      "male",
                      "northeast"
                    ],
                    [
                      "male",
                      "northeast"
                    ],
                    [
                      "female",
                      "southeast"
                    ],
                    [
                      "female",
                      "southeast"
                    ],
                    [
                      "female",
                      "southeast"
                    ],
                    [
                      "female",
                      "northeast"
                    ],
                    [
                      "female",
                      "northeast"
                    ],
                    [
                      "female",
                      "northeast"
                    ],
                    [
                      "female",
                      "southeast"
                    ],
                    [
                      "male",
                      "northwest"
                    ],
                    [
                      "female",
                      "southwest"
                    ],
                    [
                      "female",
                      "northeast"
                    ],
                    [
                      "male",
                      "southeast"
                    ],
                    [
                      "male",
                      "northeast"
                    ],
                    [
                      "female",
                      "northwest"
                    ],
                    [
                      "male",
                      "southeast"
                    ],
                    [
                      "female",
                      "northeast"
                    ],
                    [
                      "male",
                      "southeast"
                    ],
                    [
                      "female",
                      "southwest"
                    ],
                    [
                      "male",
                      "northeast"
                    ],
                    [
                      "female",
                      "northwest"
                    ],
                    [
                      "male",
                      "northeast"
                    ],
                    [
                      "male",
                      "northeast"
                    ],
                    [
                      "male",
                      "southwest"
                    ],
                    [
                      "male",
                      "southeast"
                    ],
                    [
                      "male",
                      "southwest"
                    ],
                    [
                      "male",
                      "northwest"
                    ],
                    [
                      "male",
                      "southeast"
                    ],
                    [
                      "male",
                      "northeast"
                    ],
                    [
                      "male",
                      "northwest"
                    ],
                    [
                      "male",
                      "northeast"
                    ],
                    [
                      "male",
                      "southwest"
                    ],
                    [
                      "female",
                      "northeast"
                    ],
                    [
                      "female",
                      "northwest"
                    ],
                    [
                      "male",
                      "northwest"
                    ],
                    [
                      "male",
                      "southwest"
                    ],
                    [
                      "male",
                      "northwest"
                    ],
                    [
                      "male",
                      "southeast"
                    ],
                    [
                      "female",
                      "southeast"
                    ],
                    [
                      "male",
                      "southeast"
                    ],
                    [
                      "male",
                      "northwest"
                    ],
                    [
                      "female",
                      "northwest"
                    ],
                    [
                      "female",
                      "southeast"
                    ],
                    [
                      "male",
                      "northeast"
                    ],
                    [
                      "male",
                      "southeast"
                    ],
                    [
                      "female",
                      "northwest"
                    ],
                    [
                      "female",
                      "northwest"
                    ],
                    [
                      "male",
                      "northeast"
                    ],
                    [
                      "female",
                      "northwest"
                    ],
                    [
                      "male",
                      "southeast"
                    ],
                    [
                      "male",
                      "southwest"
                    ],
                    [
                      "male",
                      "southwest"
                    ],
                    [
                      "male",
                      "southeast"
                    ],
                    [
                      "male",
                      "southeast"
                    ],
                    [
                      "male",
                      "southeast"
                    ],
                    [
                      "female",
                      "southwest"
                    ],
                    [
                      "male",
                      "southeast"
                    ],
                    [
                      "female",
                      "northwest"
                    ],
                    [
                      "female",
                      "northeast"
                    ],
                    [
                      "female",
                      "northeast"
                    ],
                    [
                      "male",
                      "southeast"
                    ],
                    [
                      "female",
                      "southeast"
                    ],
                    [
                      "male",
                      "southeast"
                    ],
                    [
                      "male",
                      "southeast"
                    ],
                    [
                      "female",
                      "southwest"
                    ],
                    [
                      "female",
                      "northwest"
                    ],
                    [
                      "female",
                      "northeast"
                    ],
                    [
                      "female",
                      "northwest"
                    ],
                    [
                      "male",
                      "southwest"
                    ],
                    [
                      "female",
                      "southeast"
                    ],
                    [
                      "male",
                      "southeast"
                    ],
                    [
                      "male",
                      "northeast"
                    ],
                    [
                      "female",
                      "southwest"
                    ],
                    [
                      "female",
                      "northwest"
                    ],
                    [
                      "male",
                      "southeast"
                    ],
                    [
                      "female",
                      "southeast"
                    ],
                    [
                      "male",
                      "northwest"
                    ],
                    [
                      "female",
                      "northeast"
                    ],
                    [
                      "female",
                      "northwest"
                    ],
                    [
                      "female",
                      "southeast"
                    ],
                    [
                      "male",
                      "southwest"
                    ],
                    [
                      "female",
                      "northeast"
                    ],
                    [
                      "female",
                      "southwest"
                    ],
                    [
                      "female",
                      "southeast"
                    ],
                    [
                      "male",
                      "northwest"
                    ],
                    [
                      "female",
                      "southwest"
                    ],
                    [
                      "male",
                      "southeast"
                    ],
                    [
                      "male",
                      "southeast"
                    ],
                    [
                      "male",
                      "northeast"
                    ],
                    [
                      "male",
                      "northeast"
                    ],
                    [
                      "male",
                      "southwest"
                    ],
                    [
                      "male",
                      "southeast"
                    ],
                    [
                      "male",
                      "northeast"
                    ],
                    [
                      "male",
                      "southeast"
                    ],
                    [
                      "male",
                      "northeast"
                    ],
                    [
                      "female",
                      "northwest"
                    ],
                    [
                      "female",
                      "northeast"
                    ],
                    [
                      "male",
                      "southwest"
                    ],
                    [
                      "male",
                      "southwest"
                    ],
                    [
                      "male",
                      "southwest"
                    ],
                    [
                      "male",
                      "southeast"
                    ],
                    [
                      "male",
                      "northwest"
                    ],
                    [
                      "male",
                      "southwest"
                    ],
                    [
                      "male",
                      "northeast"
                    ],
                    [
                      "female",
                      "northeast"
                    ],
                    [
                      "male",
                      "northwest"
                    ],
                    [
                      "female",
                      "southwest"
                    ],
                    [
                      "female",
                      "southwest"
                    ],
                    [
                      "female",
                      "northwest"
                    ],
                    [
                      "male",
                      "northeast"
                    ],
                    [
                      "female",
                      "southeast"
                    ],
                    [
                      "female",
                      "northwest"
                    ]
                  ],
                  "hovertemplate": "smoker=yes<br>age=%{x}<br>charges=%{y}<br>bmi=%{marker.size}<br>sex=%{customdata[0]}<br>region=%{customdata[1]}<extra></extra>",
                  "legendgroup": "yes",
                  "marker": {
                    "color": "#636efa",
                    "size": {
                      "bdata": "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",
                      "dtype": "f8"
                    },
                    "sizemode": "area",
                    "sizeref": 0.132825,
                    "symbol": "circle"
                  },
                  "mode": "markers",
                  "name": "yes",
                  "showlegend": true,
                  "type": "scattergl",
                  "x": {
                    "bdata": "Ez4bHiIfFhwjPCQwJDoSNRQcGxYlLTk7QDgmPRQ/HSwTICIeLiowEh4qEj8kGyMTKigTFz8SPzYyOBMUNBMuKDIoNjsZEy8fNSsbIi1APTQyExoXJxgbNywaJD9APSghOCoeNj0YLBUdMxMnKjk2MSsjMB8iFRM7Hi8xEyUSLCcqNEArKD4sPCcbKTMeHSMlFx0bNSUvEiETHjI1GyESLyE4JCkXOTwlLjEwGSUzIDlALys8IBIrLSUZMywiNiszHR8YGx4YLysWLxMuNxIWLSMUKxYxLzslHCcvFjMhJjAZIRc1FxM8KxMSKzQfFxQrExIkJS4UNBQ0QCAYFEAYGicvEj0UEy0+KyodIBkTHj4qPQ==",
                    "dtype": "i1"
                  },
                  "xaxis": "x",
                  "y": {
                    "bdata": "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",
                    "dtype": "f8"
                  },
                  "yaxis": "y"
                },
                {
                  "customdata": [
                    [
                      "male",
                      "southeast"
                    ],
                    [
                      "male",
                      "southeast"
                    ],
                    [
                      "male",
                      "northwest"
                    ],
                    [
                      "male",
                      "northwest"
                    ],
                    [
                      "female",
                      "southeast"
                    ],
                    [
                      "female",
                      "southeast"
                    ],
                    [
                      "female",
                      "northwest"
                    ],
                    [
                      "male",
                      "northeast"
                    ],
                    [
                      "female",
                      "northwest"
                    ],
                    [
                      "male",
                      "northeast"
                    ],
                    [
                      "male",
                      "southwest"
                    ],
                    [
                      "female",
                      "southeast"
                    ],
                    [
                      "male",
                      "southwest"
                    ],
                    [
                      "female",
                      "northeast"
                    ],
                    [
                      "male",
                      "northeast"
                    ],
                    [
                      "male",
                      "southwest"
                    ],
                    [
                      "female",
                      "northeast"
                    ],
                    [
                      "female",
                      "southwest"
                    ],
                    [
                      "male",
                      "southeast"
                    ],
                    [
                      "male",
                      "northwest"
                    ],
                    [
                      "female",
                      "southeast"
                    ],
                    [
                      "female",
                      "northeast"
                    ],
                    [
                      "female",
                      "northwest"
                    ],
                    [
                      "male",
                      "northwest"
                    ],
                    [
                      "female",
                      "northeast"
                    ],
                    [
                      "female",
                      "southwest"
                    ],
                    [
                      "male",
                      "northwest"
                    ],
                    [
                      "male",
                      "northwest"
                    ],
                    [
                      "female",
                      "northwest"
                    ],
                    [
                      "male",
                      "southwest"
                    ],
                    [
                      "female",
                      "northeast"
                    ],
                    [
                      "female",
                      "southeast"
                    ],
                    [
                      "male",
                      "southeast"
                    ],
                    [
                      "female",
                      "southeast"
                    ],
                    [
                      "male",
                      "northeast"
                    ],
                    [
                      "male",
                      "southwest"
                    ],
                    [
                      "female",
                      "northeast"
                    ],
                    [
                      "female",
                      "northwest"
                    ],
                    [
                      "female",
                      "southeast"
                    ],
                    [
                      "female",
                      "northeast"
                    ],
                    [
                      "female",
                      "northwest"
                    ],
                    [
                      "female",
                      "northwest"
                    ],
                    [
                      "female",
                      "northeast"
                    ],
                    [
                      "female",
                      "northwest"
                    ],
                    [
                      "male",
                      "northeast"
                    ],
                    [
                      "male",
                      "southeast"
                    ],
                    [
                      "male",
                      "northwest"
                    ],
                    [
                      "female",
                      "northwest"
                    ],
                    [
                      "female",
                      "southwest"
                    ],
                    [
                      "female",
                      "southwest"
                    ],
                    [
                      "male",
                      "northwest"
                    ],
                    [
                      "female",
                      "southeast"
                    ],
                    [
                      "male",
                      "northeast"
                    ],
                    [
                      "female",
                      "southwest"
                    ],
                    [
                      "male",
                      "southeast"
                    ],
                    [
                      "male",
                      "southwest"
                    ],
                    [
                      "male",
                      "northwest"
                    ],
                    [
                      "female",
                      "southeast"
                    ],
                    [
                      "male",
                      "southeast"
                    ],
                    [
                      "female",
                      "northeast"
                    ],
                    [
                      "female",
                      "northwest"
                    ],
                    [
                      "male",
                      "northeast"
                    ],
                    [
                      "female",
                      "northeast"
                    ],
                    [
                      "female",
                      "northwest"
                    ],
                    [
                      "female",
                      "southwest"
                    ],
                    [
                      "female",
                      "northwest"
                    ],
                    [
                      "female",
                      "northwest"
                    ],
                    [
                      "female",
                      "southeast"
                    ],
                    [
                      "female",
                      "northwest"
                    ],
                    [
                      "male",
                      "northwest"
                    ],
                    [
                      "female",
                      "southeast"
                    ],
                    [
                      "female",
                      "southwest"
                    ],
                    [
                      "male",
                      "southeast"
                    ],
                    [
                      "female",
                      "southwest"
                    ],
                    [
                      "male",
                      "northeast"
                    ],
                    [
                      "female",
                      "northeast"
                    ],
                    [
                      "female",
                      "southwest"
                    ],
                    [
                      "female",
                      "southwest"
                    ],
                    [
                      "male",
                      "northwest"
                    ],
                    [
                      "male",
                      "southeast"
                    ],
                    [
                      "male",
                      "northwest"
                    ],
                    [
                      "female",
                      "southwest"
                    ],
                    [
                      "male",
                      "southwest"
                    ],
                    [
                      "female",
                      "northwest"
                    ],
                    [
                      "male",
                      "northeast"
                    ],
                    [
                      "male",
                      "northeast"
                    ],
                    [
                      "male",
                      "southeast"
                    ],
                    [
                      "female",
                      "southeast"
                    ],
                    [
                      "female",
                      "northwest"
                    ],
                    [
                      "male",
                      "southwest"
                    ],
                    [
                      "male",
                      "northeast"
                    ],
                    [
                      "female",
                      "northwest"
                    ],
                    [
                      "female",
                      "northwest"
                    ],
                    [
                      "female",
                      "northeast"
                    ],
                    [
                      "female",
                      "southwest"
                    ],
                    [
                      "male",
                      "southwest"
                    ],
                    [
                      "female",
                      "northeast"
                    ],
                    [
                      "female",
                      "northeast"
                    ],
                    [
                      "female",
                      "southwest"
                    ],
                    [
                      "male",
                      "northwest"
                    ],
                    [
                      "female",
                      "northeast"
                    ],
                    [
                      "female",
                      "southeast"
                    ],
                    [
                      "male",
                      "southwest"
                    ],
                    [
                      "male",
                      "northwest"
                    ],
                    [
                      "female",
                      "southeast"
                    ],
                    [
                      "female",
                      "southwest"
                    ],
                    [
                      "male",
                      "northeast"
                    ],
                    [
                      "male",
                      "northeast"
                    ],
                    [
                      "male",
                      "northwest"
                    ],
                    [
                      "female",
                      "southeast"
                    ],
                    [
                      "female",
                      "southeast"
                    ],
                    [
                      "female",
                      "northwest"
                    ],
                    [
                      "male",
                      "southwest"
                    ],
                    [
                      "male",
                      "northwest"
                    ],
                    [
                      "male",
                      "southeast"
                    ],
                    [
                      "female",
                      "northeast"
                    ],
                    [
                      "female",
                      "northeast"
                    ],
                    [
                      "male",
                      "northwest"
                    ],
                    [
                      "female",
                      "southeast"
                    ],
                    [
                      "male",
                      "southwest"
                    ],
                    [
                      "female",
                      "southwest"
                    ],
                    [
                      "male",
                      "northwest"
                    ],
                    [
                      "male",
                      "northeast"
                    ],
                    [
                      "female",
                      "southwest"
                    ],
                    [
                      "female",
                      "northwest"
                    ],
                    [
                      "female",
                      "northwest"
                    ],
                    [
                      "male",
                      "northeast"
                    ],
                    [
                      "male",
                      "southeast"
                    ],
                    [
                      "male",
                      "southwest"
                    ],
                    [
                      "male",
                      "northeast"
                    ],
                    [
                      "female",
                      "southwest"
                    ],
                    [
                      "female",
                      "northwest"
                    ],
                    [
                      "male",
                      "northwest"
                    ],
                    [
                      "male",
                      "southwest"
                    ],
                    [
                      "female",
                      "southwest"
                    ],
                    [
                      "female",
                      "northeast"
                    ],
                    [
                      "male",
                      "northwest"
                    ],
                    [
                      "female",
                      "southeast"
                    ],
                    [
                      "male",
                      "northeast"
                    ],
                    [
                      "female",
                      "northwest"
                    ],
                    [
                      "male",
                      "southeast"
                    ],
                    [
                      "female",
                      "southeast"
                    ],
                    [
                      "female",
                      "southwest"
                    ],
                    [
                      "female",
                      "southwest"
                    ],
                    [
                      "female",
                      "northwest"
                    ],
                    [
                      "male",
                      "southeast"
                    ],
                    [
                      "female",
                      "southwest"
                    ],
                    [
                      "male",
                      "southeast"
                    ],
                    [
                      "female",
                      "northwest"
                    ],
                    [
                      "male",
                      "southeast"
                    ],
                    [
                      "male",
                      "northwest"
                    ],
                    [
                      "female",
                      "southwest"
                    ],
                    [
                      "female",
                      "southeast"
                    ],
                    [
                      "female",
                      "northwest"
                    ],
                    [
                      "female",
                      "northeast"
                    ],
                    [
                      "female",
                      "northwest"
                    ],
                    [
                      "female",
                      "southeast"
                    ],
                    [
                      "female",
                      "northwest"
                    ],
                    [
                      "male",
                      "southwest"
                    ],
                    [
                      "female",
                      "northeast"
                    ],
                    [
                      "male",
                      "southeast"
                    ],
                    [
                      "female",
                      "southwest"
                    ],
                    [
                      "male",
                      "northeast"
                    ],
                    [
                      "male",
                      "southwest"
                    ],
                    [
                      "male",
                      "northwest"
                    ],
                    [
                      "male",
                      "northwest"
                    ],
                    [
                      "female",
                      "southeast"
                    ],
                    [
                      "female",
                      "southwest"
                    ],
                    [
                      "female",
                      "southwest"
                    ],
                    [
                      "female",
                      "northwest"
                    ],
                    [
                      "male",
                      "southeast"
                    ],
                    [
                      "female",
                      "southeast"
                    ],
                    [
                      "female",
                      "southeast"
                    ],
                    [
                      "female",
                      "southwest"
                    ],
                    [
                      "female",
                      "northeast"
                    ],
                    [
                      "male",
                      "southwest"
                    ],
                    [
                      "male",
                      "southeast"
                    ],
                    [
                      "male",
                      "southeast"
                    ],
                    [
                      "female",
                      "southeast"
                    ],
                    [
                      "female",
                      "northeast"
                    ],
                    [
                      "male",
                      "northeast"
                    ],
                    [
                      "female",
                      "northwest"
                    ],
                    [
                      "female",
                      "southeast"
                    ],
                    [
                      "female",
                      "southwest"
                    ],
                    [
                      "male",
                      "southwest"
                    ],
                    [
                      "male",
                      "northwest"
                    ],
                    [
                      "female",
                      "southeast"
                    ],
                    [
                      "male",
                      "southeast"
                    ],
                    [
                      "male",
                      "southeast"
                    ],
                    [
                      "female",
                      "northeast"
                    ],
                    [
                      "female",
                      "southwest"
                    ],
                    [
                      "male",
                      "southwest"
                    ],
                    [
                      "male",
                      "northwest"
                    ],
                    [
                      "female",
                      "southeast"
                    ],
                    [
                      "male",
                      "southeast"
                    ],
                    [
                      "male",
                      "southwest"
                    ],
                    [
                      "male",
                      "northeast"
                    ],
                    [
                      "male",
                      "southwest"
                    ],
                    [
                      "female",
                      "northeast"
                    ],
                    [
                      "female",
                      "southeast"
                    ],
                    [
                      "male",
                      "northwest"
                    ],
                    [
                      "female",
                      "southwest"
                    ],
                    [
                      "female",
                      "southeast"
                    ],
                    [
                      "female",
                      "northeast"
                    ],
                    [
                      "male",
                      "southwest"
                    ],
                    [
                      "male",
                      "northeast"
                    ],
                    [
                      "male",
                      "southeast"
                    ],
                    [
                      "male",
                      "northwest"
                    ],
                    [
                      "male",
                      "northeast"
                    ],
                    [
                      "male",
                      "northwest"
                    ],
                    [
                      "female",
                      "northeast"
                    ],
                    [
                      "male",
                      "northwest"
                    ],
                    [
                      "female",
                      "southwest"
                    ],
                    [
                      "male",
                      "southeast"
                    ],
                    [
                      "female",
                      "southeast"
                    ],
                    [
                      "male",
                      "northeast"
                    ],
                    [
                      "female",
                      "northeast"
                    ],
                    [
                      "female",
                      "southwest"
                    ],
                    [
                      "male",
                      "southeast"
                    ],
                    [
                      "female",
                      "northeast"
                    ],
                    [
                      "female",
                      "northwest"
                    ],
                    [
                      "male",
                      "southeast"
                    ],
                    [
                      "female",
                      "southwest"
                    ],
                    [
                      "male",
                      "northeast"
                    ],
                    [
                      "female",
                      "southeast"
                    ],
                    [
                      "male",
                      "southwest"
                    ],
                    [
                      "male",
                      "northeast"
                    ],
                    [
                      "female",
                      "northwest"
                    ],
                    [
                      "male",
                      "northeast"
                    ],
                    [
                      "female",
                      "southeast"
                    ],
                    [
                      "female",
                      "southeast"
                    ],
                    [
                      "female",
                      "southwest"
                    ],
                    [
                      "male",
                      "northwest"
                    ],
                    [
                      "female",
                      "southwest"
                    ],
                    [
                      "female",
                      "southeast"
                    ],
                    [
                      "male",
                      "northeast"
                    ],
                    [
                      "female",
                      "northwest"
                    ],
                    [
                      "male",
                      "southwest"
                    ],
                    [
                      "female",
                      "southwest"
                    ],
                    [
                      "male",
                      "southeast"
                    ],
                    [
                      "male",
                      "northeast"
                    ],
                    [
                      "male",
                      "northwest"
                    ],
                    [
                      "male",
                      "northeast"
                    ],
                    [
                      "female",
                      "northwest"
                    ],
                    [
                      "male",
                      "northeast"
                    ],
                    [
                      "male",
                      "northwest"
                    ],
                    [
                      "female",
                      "northeast"
                    ],
                    [
                      "male",
                      "northeast"
                    ],
                    [
                      "male",
                      "southwest"
                    ],
                    [
                      "male",
                      "northeast"
                    ],
                    [
                      "female",
                      "southeast"
                    ],
                    [
                      "male",
                      "southwest"
                    ],
                    [
                      "female",
                      "northwest"
                    ],
                    [
                      "female",
                      "northeast"
                    ],
                    [
                      "female",
                      "northeast"
                    ],
                    [
                      "male",
                      "southwest"
                    ],
                    [
                      "male",
                      "southeast"
                    ],
                    [
                      "male",
                      "northwest"
                    ],
                    [
                      "female",
                      "southeast"
                    ],
                    [
                      "female",
                      "southwest"
                    ],
                    [
                      "male",
                      "northwest"
                    ],
                    [
                      "female",
                      "northeast"
                    ],
                    [
                      "male",
                      "northeast"
                    ],
                    [
                      "female",
                      "southeast"
                    ],
                    [
                      "female",
                      "southeast"
                    ],
                    [
                      "male",
                      "southeast"
                    ],
                    [
                      "male",
                      "northeast"
                    ],
                    [
                      "female",
                      "southeast"
                    ],
                    [
                      "male",
                      "northwest"
                    ],
                    [
                      "female",
                      "northwest"
                    ],
                    [
                      "female",
                      "southwest"
                    ],
                    [
                      "female",
                      "southwest"
                    ],
                    [
                      "male",
                      "northeast"
                    ],
                    [
                      "female",
                      "southeast"
                    ],
                    [
                      "male",
                      "southwest"
                    ],
                    [
                      "male",
                      "southeast"
                    ],
                    [
                      "male",
                      "northwest"
                    ],
                    [
                      "male",
                      "southeast"
                    ],
                    [
                      "female",
                      "southeast"
                    ],
                    [
                      "female",
                      "northeast"
                    ],
                    [
                      "male",
                      "southwest"
                    ],
                    [
                      "female",
                      "southwest"
                    ],
                    [
                      "female",
                      "southeast"
                    ],
                    [
                      "female",
                      "northeast"
                    ],
                    [
                      "female",
                      "northeast"
                    ],
                    [
                      "female",
                      "northwest"
                    ],
                    [
                      "male",
                      "northwest"
                    ],
                    [
                      "male",
                      "northeast"
                    ],
                    [
                      "female",
                      "northwest"
                    ],
                    [
                      "female",
                      "northeast"
                    ],
                    [
                      "female",
                      "northeast"
                    ],
                    [
                      "male",
                      "southeast"
                    ],
                    [
                      "female",
                      "northwest"
                    ],
                    [
                      "male",
                      "southeast"
                    ],
                    [
                      "male",
                      "southeast"
                    ],
                    [
                      "female",
                      "southeast"
                    ],
                    [
                      "male",
                      "northeast"
                    ],
                    [
                      "male",
                      "southwest"
                    ],
                    [
                      "female",
                      "southeast"
                    ],
                    [
                      "male",
                      "northwest"
                    ],
                    [
                      "female",
                      "northwest"
                    ],
                    [
                      "female",
                      "northwest"
                    ],
                    [
                      "male",
                      "northeast"
                    ],
                    [
                      "female",
                      "northwest"
                    ],
                    [
                      "male",
                      "northeast"
                    ],
                    [
                      "male",
                      "northeast"
                    ],
                    [
                      "female",
                      "northeast"
                    ],
                    [
                      "male",
                      "northwest"
                    ],
                    [
                      "female",
                      "southwest"
                    ],
                    [
                      "male",
                      "southeast"
                    ],
                    [
                      "male",
                      "southwest"
                    ],
                    [
                      "female",
                      "southeast"
                    ],
                    [
                      "female",
                      "southwest"
                    ],
                    [
                      "male",
                      "southeast"
                    ],
                    [
                      "female",
                      "northwest"
                    ],
                    [
                      "male",
                      "northwest"
                    ],
                    [
                      "male",
                      "southwest"
                    ],
                    [
                      "female",
                      "northeast"
                    ],
                    [
                      "female",
                      "southeast"
                    ],
                    [
                      "female",
                      "southwest"
                    ],
                    [
                      "male",
                      "southeast"
                    ],
                    [
                      "male",
                      "southeast"
                    ],
                    [
                      "male",
                      "northwest"
                    ],
                    [
                      "male",
                      "southwest"
                    ],
                    [
                      "female",
                      "northwest"
                    ],
                    [
                      "female",
                      "southeast"
                    ],
                    [
                      "male",
                      "southeast"
                    ],
                    [
                      "male",
                      "southeast"
                    ],
                    [
                      "male",
                      "northeast"
                    ],
                    [
                      "male",
                      "southwest"
                    ],
                    [
                      "male",
                      "southeast"
                    ],
                    [
                      "female",
                      "northeast"
                    ],
                    [
                      "female",
                      "northeast"
                    ],
                    [
                      "female",
                      "northeast"
                    ],
                    [
                      "female",
                      "northwest"
                    ],
                    [
                      "male",
                      "southwest"
                    ],
                    [
                      "female",
                      "northwest"
                    ],
                    [
                      "male",
                      "southwest"
                    ],
                    [
                      "female",
                      "southwest"
                    ],
                    [
                      "male",
                      "northwest"
                    ],
                    [
                      "male",
                      "southeast"
                    ],
                    [
                      "male",
                      "northeast"
                    ],
                    [
                      "male",
                      "southwest"
                    ],
                    [
                      "female",
                      "southeast"
                    ],
                    [
                      "male",
                      "northeast"
                    ],
                    [
                      "female",
                      "northwest"
                    ],
                    [
                      "male",
                      "southeast"
                    ],
                    [
                      "female",
                      "southeast"
                    ],
                    [
                      "female",
                      "southwest"
                    ],
                    [
                      "male",
                      "northeast"
                    ],
                    [
                      "female",
                      "northwest"
                    ],
                    [
                      "female",
                      "southwest"
                    ],
                    [
                      "male",
                      "southwest"
                    ],
                    [
                      "male",
                      "southwest"
                    ],
                    [
                      "male",
                      "northwest"
                    ],
                    [
                      "male",
                      "southwest"
                    ],
                    [
                      "male",
                      "northwest"
                    ],
                    [
                      "male",
                      "southeast"
                    ],
                    [
                      "male",
                      "southwest"
                    ],
                    [
                      "female",
                      "southeast"
                    ],
                    [
                      "female",
                      "northwest"
                    ],
                    [
                      "male",
                      "southwest"
                    ],
                    [
                      "female",
                      "southeast"
                    ],
                    [
                      "female",
                      "southeast"
                    ],
                    [
                      "female",
                      "northeast"
                    ],
                    [
                      "male",
                      "northeast"
                    ],
                    [
                      "male",
                      "northwest"
                    ],
                    [
                      "female",
                      "southwest"
                    ],
                    [
                      "female",
                      "northwest"
                    ],
                    [
                      "female",
                      "northeast"
                    ],
                    [
                      "female",
                      "southeast"
                    ],
                    [
                      "male",
                      "southeast"
                    ],
                    [
                      "female",
                      "northeast"
                    ],
                    [
                      "female",
                      "southwest"
                    ],
                    [
                      "female",
                      "northeast"
                    ],
                    [
                      "male",
                      "northwest"
                    ],
                    [
                      "male",
                      "southeast"
                    ],
                    [
                      "male",
                      "southeast"
                    ],
                    [
                      "male",
                      "northwest"
                    ],
                    [
                      "male",
                      "southeast"
                    ],
                    [
                      "female",
                      "southeast"
                    ],
                    [
                      "female",
                      "southwest"
                    ],
                    [
                      "male",
                      "southwest"
                    ],
                    [
                      "female",
                      "northeast"
                    ],
                    [
                      "female",
                      "northwest"
                    ],
                    [
                      "male",
                      "southwest"
                    ],
                    [
                      "male",
                      "northwest"
                    ],
                    [
                      "female",
                      "southwest"
                    ],
                    [
                      "female",
                      "southeast"
                    ],
                    [
                      "female",
                      "northeast"
                    ],
                    [
                      "male",
                      "southwest"
                    ],
                    [
                      "male",
                      "northeast"
                    ],
                    [
                      "female",
                      "southwest"
                    ],
                    [
                      "male",
                      "southwest"
                    ],
                    [
                      "female",
                      "southeast"
                    ],
                    [
                      "female",
                      "southwest"
                    ],
                    [
                      "male",
                      "northeast"
                    ],
                    [
                      "female",
                      "southeast"
                    ],
                    [
                      "male",
                      "northwest"
                    ],
                    [
                      "male",
                      "northwest"
                    ],
                    [
                      "male",
                      "northwest"
                    ],
                    [
                      "female",
                      "northeast"
                    ],
                    [
                      "female",
                      "southwest"
                    ],
                    [
                      "male",
                      "northeast"
                    ],
                    [
                      "male",
                      "southeast"
                    ],
                    [
                      "male",
                      "northeast"
                    ],
                    [
                      "male",
                      "southwest"
                    ],
                    [
                      "male",
                      "southwest"
                    ],
                    [
                      "male",
                      "southeast"
                    ],
                    [
                      "male",
                      "northwest"
                    ],
                    [
                      "female",
                      "southwest"
                    ],
                    [
                      "male",
                      "northeast"
                    ],
                    [
                      "female",
                      "northeast"
                    ],
                    [
                      "female",
                      "southeast"
                    ],
                    [
                      "female",
                      "northeast"
                    ],
                    [
                      "female",
                      "southeast"
                    ],
                    [
                      "female",
                      "southeast"
                    ],
                    [
                      "female",
                      "northwest"
                    ],
                    [
                      "female",
                      "southwest"
                    ],
                    [
                      "male",
                      "northeast"
                    ],
                    [
                      "male",
                      "northeast"
                    ],
                    [
                      "female",
                      "northeast"
                    ],
                    [
                      "male",
                      "southeast"
                    ],
                    [
                      "male",
                      "southeast"
                    ],
                    [
                      "male",
                      "southeast"
                    ],
                    [
                      "male",
                      "northeast"
                    ],
                    [
                      "female",
                      "southwest"
                    ],
                    [
                      "female",
                      "southwest"
                    ],
                    [
                      "female",
                      "southeast"
                    ],
                    [
                      "male",
                      "southeast"
                    ],
                    [
                      "female",
                      "southwest"
                    ],
                    [
                      "female",
                      "southeast"
                    ],
                    [
                      "female",
                      "southeast"
                    ],
                    [
                      "male",
                      "northwest"
                    ],
                    [
                      "male",
                      "northeast"
                    ],
                    [
                      "female",
                      "southwest"
                    ],
                    [
                      "female",
                      "northeast"
                    ],
                    [
                      "male",
                      "southwest"
                    ],
                    [
                      "female",
                      "southeast"
                    ],
                    [
                      "male",
                      "southwest"
                    ],
                    [
                      "female",
                      "northwest"
                    ],
                    [
                      "female",
                      "northeast"
                    ],
                    [
                      "male",
                      "southwest"
                    ],
                    [
                      "male",
                      "northeast"
                    ],
                    [
                      "male",
                      "southeast"
                    ],
                    [
                      "male",
                      "northwest"
                    ],
                    [
                      "female",
                      "northwest"
                    ],
                    [
                      "female",
                      "northeast"
                    ],
                    [
                      "male",
                      "southwest"
                    ],
                    [
                      "male",
                      "southeast"
                    ],
                    [
                      "female",
                      "southeast"
                    ],
                    [
                      "female",
                      "northwest"
                    ],
                    [
                      "female",
                      "northwest"
                    ],
                    [
                      "male",
                      "northwest"
                    ],
                    [
                      "female",
                      "southwest"
                    ],
                    [
                      "female",
                      "southwest"
                    ],
                    [
                      "female",
                      "southeast"
                    ],
                    [
                      "female",
                      "southeast"
                    ],
                    [
                      "female",
                      "northeast"
                    ],
                    [
                      "female",
                      "northeast"
                    ],
                    [
                      "female",
                      "northwest"
                    ],
                    [
                      "male",
                      "southeast"
                    ],
                    [
                      "male",
                      "southwest"
                    ],
                    [
                      "female",
                      "northeast"
                    ],
                    [
                      "male",
                      "northeast"
                    ],
                    [
                      "male",
                      "southeast"
                    ],
                    [
                      "female",
                      "southeast"
                    ],
                    [
                      "male",
                      "southwest"
                    ],
                    [
                      "female",
                      "southeast"
                    ],
                    [
                      "male",
                      "northeast"
                    ],
                    [
                      "female",
                      "northeast"
                    ],
                    [
                      "female",
                      "southeast"
                    ],
                    [
                      "female",
                      "southwest"
                    ],
                    [
                      "male",
                      "northwest"
                    ],
                    [
                      "male",
                      "southeast"
                    ],
                    [
                      "male",
                      "southeast"
                    ],
                    [
                      "female",
                      "northeast"
                    ],
                    [
                      "female",
                      "southeast"
                    ],
                    [
                      "female",
                      "northeast"
                    ],
                    [
                      "male",
                      "southwest"
                    ],
                    [
                      "female",
                      "northwest"
                    ],
                    [
                      "female",
                      "southeast"
                    ],
                    [
                      "male",
                      "northwest"
                    ],
                    [
                      "female",
                      "southwest"
                    ],
                    [
                      "female",
                      "southeast"
                    ],
                    [
                      "female",
                      "southeast"
                    ],
                    [
                      "female",
                      "northeast"
                    ],
                    [
                      "male",
                      "northeast"
                    ],
                    [
                      "female",
                      "southeast"
                    ],
                    [
                      "female",
                      "southwest"
                    ],
                    [
                      "female",
                      "northeast"
                    ],
                    [
                      "female",
                      "northeast"
                    ],
                    [
                      "female",
                      "southeast"
                    ],
                    [
                      "female",
                      "northeast"
                    ],
                    [
                      "female",
                      "southwest"
                    ],
                    [
                      "male",
                      "southwest"
                    ],
                    [
                      "female",
                      "southwest"
                    ],
                    [
                      "male",
                      "northwest"
                    ],
                    [
                      "female",
                      "northwest"
                    ],
                    [
                      "male",
                      "northeast"
                    ],
                    [
                      "male",
                      "southeast"
                    ],
                    [
                      "male",
                      "southwest"
                    ],
                    [
                      "male",
                      "southwest"
                    ],
                    [
                      "male",
                      "southwest"
                    ],
                    [
                      "female",
                      "southeast"
                    ],
                    [
                      "male",
                      "northeast"
                    ],
                    [
                      "male",
                      "southwest"
                    ],
                    [
                      "male",
                      "northeast"
                    ],
                    [
                      "female",
                      "northwest"
                    ],
                    [
                      "female",
                      "northeast"
                    ],
                    [
                      "male",
                      "southeast"
                    ],
                    [
                      "male",
                      "southwest"
                    ],
                    [
                      "male",
                      "northeast"
                    ],
                    [
                      "female",
                      "northwest"
                    ],
                    [
                      "male",
                      "southeast"
                    ],
                    [
                      "male",
                      "northeast"
                    ],
                    [
                      "male",
                      "northwest"
                    ],
                    [
                      "female",
                      "northeast"
                    ],
                    [
                      "male",
                      "northeast"
                    ],
                    [
                      "female",
                      "northeast"
                    ],
                    [
                      "female",
                      "southeast"
                    ],
                    [
                      "female",
                      "southeast"
                    ],
                    [
                      "female",
                      "southeast"
                    ],
                    [
                      "female",
                      "southeast"
                    ],
                    [
                      "female",
                      "southeast"
                    ],
                    [
                      "female",
                      "southwest"
                    ],
                    [
                      "male",
                      "northwest"
                    ],
                    [
                      "female",
                      "northeast"
                    ],
                    [
                      "female",
                      "northeast"
                    ],
                    [
                      "male",
                      "southeast"
                    ],
                    [
                      "female",
                      "southeast"
                    ],
                    [
                      "female",
                      "northeast"
                    ],
                    [
                      "male",
                      "southeast"
                    ],
                    [
                      "male",
                      "southwest"
                    ],
                    [
                      "female",
                      "southeast"
                    ],
                    [
                      "male",
                      "southeast"
                    ],
                    [
                      "female",
                      "northeast"
                    ],
                    [
                      "male",
                      "southeast"
                    ],
                    [
                      "female",
                      "southeast"
                    ],
                    [
                      "male",
                      "northwest"
                    ],
                    [
                      "female",
                      "southeast"
                    ],
                    [
                      "male",
                      "southwest"
                    ],
                    [
                      "female",
                      "northwest"
                    ],
                    [
                      "female",
                      "southwest"
                    ],
                    [
                      "male",
                      "southwest"
                    ],
                    [
                      "male",
                      "northwest"
                    ],
                    [
                      "female",
                      "southwest"
                    ],
                    [
                      "male",
                      "northeast"
                    ],
                    [
                      "male",
                      "northeast"
                    ],
                    [
                      "male",
                      "southeast"
                    ],
                    [
                      "female",
                      "southwest"
                    ],
                    [
                      "male",
                      "northeast"
                    ],
                    [
                      "male",
                      "southwest"
                    ],
                    [
                      "male",
                      "northwest"
                    ],
                    [
                      "male",
                      "northwest"
                    ],
                    [
                      "female",
                      "southwest"
                    ],
                    [
                      "female",
                      "northwest"
                    ],
                    [
                      "female",
                      "northeast"
                    ],
                    [
                      "male",
                      "northwest"
                    ],
                    [
                      "female",
                      "southeast"
                    ],
                    [
                      "female",
                      "southeast"
                    ],
                    [
                      "female",
                      "northeast"
                    ],
                    [
                      "male",
                      "southeast"
                    ],
                    [
                      "female",
                      "northwest"
                    ],
                    [
                      "female",
                      "northwest"
                    ],
                    [
                      "female",
                      "southwest"
                    ],
                    [
                      "male",
                      "northwest"
                    ],
                    [
                      "female",
                      "northeast"
                    ],
                    [
                      "female",
                      "northeast"
                    ],
                    [
                      "male",
                      "southeast"
                    ],
                    [
                      "female",
                      "southeast"
                    ],
                    [
                      "female",
                      "northwest"
                    ],
                    [
                      "male",
                      "northeast"
                    ],
                    [
                      "female",
                      "southwest"
                    ],
                    [
                      "male",
                      "southwest"
                    ],
                    [
                      "female",
                      "northwest"
                    ],
                    [
                      "male",
                      "northwest"
                    ],
                    [
                      "female",
                      "northwest"
                    ],
                    [
                      "female",
                      "northwest"
                    ],
                    [
                      "female",
                      "northeast"
                    ],
                    [
                      "male",
                      "southwest"
                    ],
                    [
                      "male",
                      "southwest"
                    ],
                    [
                      "male",
                      "southwest"
                    ],
                    [
                      "female",
                      "northeast"
                    ],
                    [
                      "male",
                      "northwest"
                    ],
                    [
                      "female",
                      "northeast"
                    ],
                    [
                      "female",
                      "southeast"
                    ],
                    [
                      "male",
                      "southwest"
                    ],
                    [
                      "female",
                      "southwest"
                    ],
                    [
                      "female",
                      "northeast"
                    ],
                    [
                      "female",
                      "southwest"
                    ],
                    [
                      "female",
                      "northwest"
                    ],
                    [
                      "male",
                      "southwest"
                    ],
                    [
                      "male",
                      "northeast"
                    ],
                    [
                      "female",
                      "southeast"
                    ],
                    [
                      "male",
                      "northwest"
                    ],
                    [
                      "female",
                      "northwest"
                    ],
                    [
                      "male",
                      "southwest"
                    ],
                    [
                      "male",
                      "northwest"
                    ],
                    [
                      "female",
                      "southwest"
                    ],
                    [
                      "male",
                      "northwest"
                    ],
                    [
                      "male",
                      "northwest"
                    ],
                    [
                      "male",
                      "northwest"
                    ],
                    [
                      "female",
                      "southeast"
                    ],
                    [
                      "male",
                      "northeast"
                    ],
                    [
                      "male",
                      "northeast"
                    ],
                    [
                      "female",
                      "northeast"
                    ],
                    [
                      "male",
                      "northeast"
                    ],
                    [
                      "female",
                      "northeast"
                    ],
                    [
                      "male",
                      "southwest"
                    ],
                    [
                      "male",
                      "northeast"
                    ],
                    [
                      "female",
                      "northeast"
                    ],
                    [
                      "female",
                      "northwest"
                    ],
                    [
                      "male",
                      "southwest"
                    ],
                    [
                      "female",
                      "southwest"
                    ],
                    [
                      "female",
                      "southwest"
                    ],
                    [
                      "female",
                      "northwest"
                    ],
                    [
                      "male",
                      "southwest"
                    ],
                    [
                      "female",
                      "southwest"
                    ],
                    [
                      "female",
                      "northeast"
                    ],
                    [
                      "male",
                      "northwest"
                    ],
                    [
                      "male",
                      "southeast"
                    ],
                    [
                      "male",
                      "northwest"
                    ],
                    [
                      "male",
                      "northeast"
                    ],
                    [
                      "male",
                      "southeast"
                    ],
                    [
                      "male",
                      "northwest"
                    ],
                    [
                      "male",
                      "southeast"
                    ],
                    [
                      "male",
                      "southeast"
                    ],
                    [
                      "female",
                      "southeast"
                    ],
                    [
                      "female",
                      "southwest"
                    ],
                    [
                      "male",
                      "northeast"
                    ],
                    [
                      "male",
                      "northwest"
                    ],
                    [
                      "male",
                      "northeast"
                    ],
                    [
                      "female",
                      "southeast"
                    ],
                    [
                      "female",
                      "southeast"
                    ],
                    [
                      "male",
                      "southwest"
                    ],
                    [
                      "female",
                      "northeast"
                    ],
                    [
                      "female",
                      "northwest"
                    ],
                    [
                      "male",
                      "southeast"
                    ],
                    [
                      "female",
                      "northeast"
                    ],
                    [
                      "female",
                      "southwest"
                    ],
                    [
                      "female",
                      "southeast"
                    ],
                    [
                      "female",
                      "southeast"
                    ],
                    [
                      "male",
                      "southwest"
                    ],
                    [
                      "male",
                      "southeast"
                    ],
                    [
                      "female",
                      "northwest"
                    ],
                    [
                      "female",
                      "northwest"
                    ],
                    [
                      "female",
                      "northwest"
                    ],
                    [
                      "male",
                      "southeast"
                    ],
                    [
                      "male",
                      "northeast"
                    ],
                    [
                      "female",
                      "southwest"
                    ],
                    [
                      "female",
                      "northwest"
                    ],
                    [
                      "male",
                      "southeast"
                    ],
                    [
                      "male",
                      "northeast"
                    ],
                    [
                      "male",
                      "southeast"
                    ],
                    [
                      "female",
                      "southeast"
                    ],
                    [
                      "female",
                      "northwest"
                    ],
                    [
                      "male",
                      "southwest"
                    ],
                    [
                      "male",
                      "southwest"
                    ],
                    [
                      "male",
                      "northwest"
                    ],
                    [
                      "female",
                      "southeast"
                    ],
                    [
                      "female",
                      "southeast"
                    ],
                    [
                      "male",
                      "northwest"
                    ],
                    [
                      "female",
                      "northeast"
                    ],
                    [
                      "male",
                      "northwest"
                    ],
                    [
                      "male",
                      "southwest"
                    ],
                    [
                      "female",
                      "northwest"
                    ],
                    [
                      "female",
                      "northwest"
                    ],
                    [
                      "male",
                      "northwest"
                    ],
                    [
                      "male",
                      "northwest"
                    ],
                    [
                      "male",
                      "southeast"
                    ],
                    [
                      "male",
                      "southwest"
                    ],
                    [
                      "female",
                      "northeast"
                    ],
                    [
                      "female",
                      "northeast"
                    ],
                    [
                      "female",
                      "northwest"
                    ],
                    [
                      "male",
                      "southwest"
                    ],
                    [
                      "male",
                      "northeast"
                    ],
                    [
                      "male",
                      "northeast"
                    ],
                    [
                      "female",
                      "southwest"
                    ],
                    [
                      "male",
                      "southeast"
                    ],
                    [
                      "female",
                      "southwest"
                    ],
                    [
                      "male",
                      "northwest"
                    ],
                    [
                      "male",
                      "northwest"
                    ],
                    [
                      "female",
                      "northeast"
                    ],
                    [
                      "female",
                      "southwest"
                    ],
                    [
                      "female",
                      "southeast"
                    ],
                    [
                      "male",
                      "southwest"
                    ],
                    [
                      "female",
                      "southwest"
                    ],
                    [
                      "female",
                      "northwest"
                    ],
                    [
                      "female",
                      "northeast"
                    ],
                    [
                      "male",
                      "southwest"
                    ],
                    [
                      "male",
                      "southwest"
                    ],
                    [
                      "male",
                      "southeast"
                    ],
                    [
                      "male",
                      "southwest"
                    ],
                    [
                      "male",
                      "northeast"
                    ],
                    [
                      "female",
                      "southwest"
                    ],
                    [
                      "male",
                      "southwest"
                    ],
                    [
                      "female",
                      "southeast"
                    ],
                    [
                      "male",
                      "southeast"
                    ],
                    [
                      "male",
                      "southwest"
                    ],
                    [
                      "male",
                      "northeast"
                    ],
                    [
                      "female",
                      "northwest"
                    ],
                    [
                      "female",
                      "southwest"
                    ],
                    [
                      "male",
                      "southeast"
                    ],
                    [
                      "male",
                      "southwest"
                    ],
                    [
                      "female",
                      "southwest"
                    ],
                    [
                      "male",
                      "southwest"
                    ],
                    [
                      "male",
                      "northwest"
                    ],
                    [
                      "female",
                      "northeast"
                    ],
                    [
                      "male",
                      "northwest"
                    ],
                    [
                      "female",
                      "northwest"
                    ],
                    [
                      "male",
                      "southwest"
                    ],
                    [
                      "male",
                      "northwest"
                    ],
                    [
                      "female",
                      "southeast"
                    ],
                    [
                      "male",
                      "northeast"
                    ],
                    [
                      "male",
                      "northeast"
                    ],
                    [
                      "female",
                      "southwest"
                    ],
                    [
                      "male",
                      "northwest"
                    ],
                    [
                      "female",
                      "southeast"
                    ],
                    [
                      "female",
                      "northwest"
                    ],
                    [
                      "male",
                      "northeast"
                    ],
                    [
                      "male",
                      "northeast"
                    ],
                    [
                      "male",
                      "southeast"
                    ],
                    [
                      "female",
                      "southwest"
                    ],
                    [
                      "female",
                      "northeast"
                    ],
                    [
                      "male",
                      "northeast"
                    ],
                    [
                      "female",
                      "southeast"
                    ],
                    [
                      "male",
                      "southwest"
                    ],
                    [
                      "male",
                      "northwest"
                    ],
                    [
                      "female",
                      "northwest"
                    ],
                    [
                      "female",
                      "southwest"
                    ],
                    [
                      "male",
                      "northwest"
                    ],
                    [
                      "female",
                      "southeast"
                    ],
                    [
                      "female",
                      "southwest"
                    ],
                    [
                      "female",
                      "southeast"
                    ],
                    [
                      "female",
                      "southwest"
                    ],
                    [
                      "female",
                      "southwest"
                    ],
                    [
                      "male",
                      "southwest"
                    ],
                    [
                      "male",
                      "northwest"
                    ],
                    [
                      "male",
                      "southwest"
                    ],
                    [
                      "male",
                      "northeast"
                    ],
                    [
                      "female",
                      "southwest"
                    ],
                    [
                      "female",
                      "southwest"
                    ],
                    [
                      "female",
                      "southeast"
                    ],
                    [
                      "male",
                      "southeast"
                    ],
                    [
                      "male",
                      "southeast"
                    ],
                    [
                      "female",
                      "southwest"
                    ],
                    [
                      "male",
                      "southwest"
                    ],
                    [
                      "female",
                      "southwest"
                    ],
                    [
                      "male",
                      "southeast"
                    ],
                    [
                      "female",
                      "southwest"
                    ],
                    [
                      "male",
                      "northeast"
                    ],
                    [
                      "female",
                      "northwest"
                    ],
                    [
                      "male",
                      "southeast"
                    ],
                    [
                      "male",
                      "southeast"
                    ],
                    [
                      "male",
                      "southeast"
                    ],
                    [
                      "female",
                      "southeast"
                    ],
                    [
                      "female",
                      "northeast"
                    ],
                    [
                      "male",
                      "northwest"
                    ],
                    [
                      "male",
                      "southeast"
                    ],
                    [
                      "female",
                      "southwest"
                    ],
                    [
                      "male",
                      "southwest"
                    ],
                    [
                      "male",
                      "northwest"
                    ],
                    [
                      "male",
                      "northeast"
                    ],
                    [
                      "female",
                      "northwest"
                    ],
                    [
                      "male",
                      "southeast"
                    ],
                    [
                      "male",
                      "northwest"
                    ],
                    [
                      "male",
                      "northwest"
                    ],
                    [
                      "female",
                      "northwest"
                    ],
                    [
                      "female",
                      "southwest"
                    ],
                    [
                      "female",
                      "southeast"
                    ],
                    [
                      "male",
                      "northeast"
                    ],
                    [
                      "male",
                      "northwest"
                    ],
                    [
                      "male",
                      "southwest"
                    ],
                    [
                      "male",
                      "northwest"
                    ],
                    [
                      "male",
                      "northeast"
                    ],
                    [
                      "female",
                      "southeast"
                    ],
                    [
                      "female",
                      "southeast"
                    ],
                    [
                      "female",
                      "northeast"
                    ],
                    [
                      "female",
                      "northwest"
                    ],
                    [
                      "female",
                      "southwest"
                    ],
                    [
                      "male",
                      "southeast"
                    ],
                    [
                      "male",
                      "southeast"
                    ],
                    [
                      "male",
                      "southeast"
                    ],
                    [
                      "female",
                      "northeast"
                    ],
                    [
                      "female",
                      "southeast"
                    ],
                    [
                      "male",
                      "northeast"
                    ],
                    [
                      "male",
                      "northeast"
                    ],
                    [
                      "female",
                      "northeast"
                    ],
                    [
                      "male",
                      "northeast"
                    ],
                    [
                      "female",
                      "southwest"
                    ],
                    [
                      "male",
                      "northwest"
                    ],
                    [
                      "female",
                      "northwest"
                    ],
                    [
                      "male",
                      "northeast"
                    ],
                    [
                      "female",
                      "southwest"
                    ],
                    [
                      "female",
                      "northeast"
                    ],
                    [
                      "female",
                      "southwest"
                    ],
                    [
                      "male",
                      "southeast"
                    ],
                    [
                      "female",
                      "northeast"
                    ],
                    [
                      "female",
                      "southwest"
                    ],
                    [
                      "female",
                      "southeast"
                    ],
                    [
                      "female",
                      "northeast"
                    ],
                    [
                      "female",
                      "northwest"
                    ],
                    [
                      "male",
                      "southwest"
                    ],
                    [
                      "male",
                      "southwest"
                    ],
                    [
                      "male",
                      "northeast"
                    ],
                    [
                      "male",
                      "northwest"
                    ],
                    [
                      "male",
                      "northeast"
                    ],
                    [
                      "male",
                      "northeast"
                    ],
                    [
                      "male",
                      "northeast"
                    ],
                    [
                      "female",
                      "southwest"
                    ],
                    [
                      "female",
                      "southeast"
                    ],
                    [
                      "male",
                      "northwest"
                    ],
                    [
                      "female",
                      "southwest"
                    ],
                    [
                      "male",
                      "northwest"
                    ],
                    [
                      "female",
                      "northwest"
                    ],
                    [
                      "female",
                      "southwest"
                    ],
                    [
                      "female",
                      "northwest"
                    ],
                    [
                      "female",
                      "northwest"
                    ],
                    [
                      "male",
                      "southwest"
                    ],
                    [
                      "male",
                      "southeast"
                    ],
                    [
                      "female",
                      "southeast"
                    ],
                    [
                      "female",
                      "southwest"
                    ],
                    [
                      "male",
                      "northwest"
                    ],
                    [
                      "male",
                      "southwest"
                    ],
                    [
                      "female",
                      "northeast"
                    ],
                    [
                      "female",
                      "northeast"
                    ],
                    [
                      "male",
                      "northwest"
                    ],
                    [
                      "female",
                      "southwest"
                    ],
                    [
                      "male",
                      "northeast"
                    ],
                    [
                      "male",
                      "northwest"
                    ],
                    [
                      "male",
                      "northeast"
                    ],
                    [
                      "female",
                      "southwest"
                    ],
                    [
                      "male",
                      "northeast"
                    ],
                    [
                      "female",
                      "northeast"
                    ],
                    [
                      "female",
                      "northwest"
                    ],
                    [
                      "female",
                      "northwest"
                    ],
                    [
                      "male",
                      "northeast"
                    ],
                    [
                      "male",
                      "northeast"
                    ],
                    [
                      "female",
                      "northwest"
                    ],
                    [
                      "male",
                      "northwest"
                    ],
                    [
                      "female",
                      "southwest"
                    ],
                    [
                      "female",
                      "southeast"
                    ],
                    [
                      "female",
                      "southeast"
                    ],
                    [
                      "male",
                      "northwest"
                    ],
                    [
                      "male",
                      "southeast"
                    ],
                    [
                      "male",
                      "southeast"
                    ],
                    [
                      "male",
                      "northwest"
                    ],
                    [
                      "female",
                      "southwest"
                    ],
                    [
                      "female",
                      "southwest"
                    ],
                    [
                      "male",
                      "southeast"
                    ],
                    [
                      "male",
                      "northeast"
                    ],
                    [
                      "male",
                      "northwest"
                    ],
                    [
                      "female",
                      "southeast"
                    ],
                    [
                      "male",
                      "northeast"
                    ],
                    [
                      "male",
                      "northwest"
                    ],
                    [
                      "female",
                      "northeast"
                    ],
                    [
                      "female",
                      "northeast"
                    ],
                    [
                      "female",
                      "southeast"
                    ],
                    [
                      "female",
                      "southwest"
                    ],
                    [
                      "male",
                      "northeast"
                    ],
                    [
                      "male",
                      "southeast"
                    ],
                    [
                      "male",
                      "southeast"
                    ],
                    [
                      "male",
                      "northwest"
                    ],
                    [
                      "male",
                      "northwest"
                    ],
                    [
                      "male",
                      "southwest"
                    ],
                    [
                      "female",
                      "northwest"
                    ],
                    [
                      "male",
                      "northeast"
                    ],
                    [
                      "male",
                      "northwest"
                    ],
                    [
                      "male",
                      "southeast"
                    ],
                    [
                      "male",
                      "southwest"
                    ],
                    [
                      "female",
                      "northeast"
                    ],
                    [
                      "male",
                      "southwest"
                    ],
                    [
                      "female",
                      "southwest"
                    ],
                    [
                      "female",
                      "northeast"
                    ],
                    [
                      "male",
                      "southeast"
                    ],
                    [
                      "female",
                      "northeast"
                    ],
                    [
                      "female",
                      "southeast"
                    ],
                    [
                      "male",
                      "southwest"
                    ],
                    [
                      "male",
                      "southeast"
                    ],
                    [
                      "male",
                      "southeast"
                    ],
                    [
                      "male",
                      "southwest"
                    ],
                    [
                      "female",
                      "southeast"
                    ],
                    [
                      "female",
                      "northwest"
                    ],
                    [
                      "female",
                      "northwest"
                    ],
                    [
                      "male",
                      "southwest"
                    ],
                    [
                      "male",
                      "southeast"
                    ],
                    [
                      "female",
                      "northeast"
                    ],
                    [
                      "female",
                      "northwest"
                    ],
                    [
                      "male",
                      "northeast"
                    ],
                    [
                      "male",
                      "southeast"
                    ],
                    [
                      "male",
                      "northeast"
                    ],
                    [
                      "female",
                      "northwest"
                    ],
                    [
                      "male",
                      "southeast"
                    ],
                    [
                      "female",
                      "northeast"
                    ],
                    [
                      "female",
                      "northwest"
                    ],
                    [
                      "male",
                      "southwest"
                    ],
                    [
                      "female",
                      "southeast"
                    ],
                    [
                      "male",
                      "southwest"
                    ],
                    [
                      "female",
                      "southwest"
                    ],
                    [
                      "female",
                      "southeast"
                    ],
                    [
                      "male",
                      "southwest"
                    ],
                    [
                      "male",
                      "northeast"
                    ],
                    [
                      "female",
                      "northwest"
                    ],
                    [
                      "male",
                      "northwest"
                    ],
                    [
                      "female",
                      "northwest"
                    ],
                    [
                      "female",
                      "southwest"
                    ],
                    [
                      "female",
                      "northwest"
                    ],
                    [
                      "male",
                      "southeast"
                    ],
                    [
                      "male",
                      "southeast"
                    ],
                    [
                      "female",
                      "southwest"
                    ],
                    [
                      "female",
                      "southeast"
                    ],
                    [
                      "male",
                      "southeast"
                    ],
                    [
                      "male",
                      "southwest"
                    ],
                    [
                      "male",
                      "northwest"
                    ],
                    [
                      "female",
                      "northwest"
                    ],
                    [
                      "male",
                      "southwest"
                    ],
                    [
                      "male",
                      "southwest"
                    ],
                    [
                      "female",
                      "northeast"
                    ],
                    [
                      "female",
                      "northwest"
                    ],
                    [
                      "female",
                      "northwest"
                    ],
                    [
                      "female",
                      "northwest"
                    ],
                    [
                      "female",
                      "northeast"
                    ],
                    [
                      "female",
                      "northwest"
                    ],
                    [
                      "female",
                      "northeast"
                    ],
                    [
                      "female",
                      "southwest"
                    ],
                    [
                      "female",
                      "northwest"
                    ],
                    [
                      "male",
                      "southeast"
                    ],
                    [
                      "male",
                      "southeast"
                    ],
                    [
                      "female",
                      "northeast"
                    ],
                    [
                      "female",
                      "northwest"
                    ],
                    [
                      "female",
                      "northeast"
                    ],
                    [
                      "male",
                      "southeast"
                    ],
                    [
                      "female",
                      "southwest"
                    ],
                    [
                      "male",
                      "southwest"
                    ],
                    [
                      "female",
                      "northwest"
                    ],
                    [
                      "female",
                      "southeast"
                    ],
                    [
                      "male",
                      "northwest"
                    ],
                    [
                      "male",
                      "northwest"
                    ],
                    [
                      "female",
                      "southwest"
                    ],
                    [
                      "female",
                      "southwest"
                    ],
                    [
                      "female",
                      "northeast"
                    ],
                    [
                      "female",
                      "northeast"
                    ],
                    [
                      "female",
                      "northwest"
                    ],
                    [
                      "female",
                      "southwest"
                    ],
                    [
                      "female",
                      "northeast"
                    ],
                    [
                      "male",
                      "northeast"
                    ],
                    [
                      "female",
                      "northwest"
                    ],
                    [
                      "female",
                      "southwest"
                    ],
                    [
                      "female",
                      "northwest"
                    ],
                    [
                      "female",
                      "northeast"
                    ],
                    [
                      "female",
                      "northeast"
                    ],
                    [
                      "female",
                      "northwest"
                    ],
                    [
                      "female",
                      "northwest"
                    ],
                    [
                      "female",
                      "northwest"
                    ],
                    [
                      "male",
                      "southeast"
                    ],
                    [
                      "male",
                      "northwest"
                    ],
                    [
                      "female",
                      "southwest"
                    ],
                    [
                      "male",
                      "northwest"
                    ],
                    [
                      "male",
                      "northwest"
                    ],
                    [
                      "male",
                      "northwest"
                    ],
                    [
                      "male",
                      "northeast"
                    ],
                    [
                      "male",
                      "northwest"
                    ],
                    [
                      "female",
                      "southwest"
                    ],
                    [
                      "male",
                      "southwest"
                    ],
                    [
                      "male",
                      "northwest"
                    ],
                    [
                      "male",
                      "southeast"
                    ],
                    [
                      "male",
                      "northeast"
                    ],
                    [
                      "female",
                      "southwest"
                    ],
                    [
                      "female",
                      "northwest"
                    ],
                    [
                      "male",
                      "northeast"
                    ],
                    [
                      "male",
                      "southeast"
                    ],
                    [
                      "male",
                      "southeast"
                    ],
                    [
                      "female",
                      "northwest"
                    ],
                    [
                      "female",
                      "northeast"
                    ],
                    [
                      "male",
                      "southeast"
                    ],
                    [
                      "male",
                      "southeast"
                    ],
                    [
                      "male",
                      "northeast"
                    ],
                    [
                      "female",
                      "southeast"
                    ],
                    [
                      "male",
                      "northeast"
                    ],
                    [
                      "male",
                      "southeast"
                    ],
                    [
                      "male",
                      "southeast"
                    ],
                    [
                      "male",
                      "northeast"
                    ],
                    [
                      "female",
                      "northwest"
                    ],
                    [
                      "male",
                      "southwest"
                    ],
                    [
                      "female",
                      "southeast"
                    ],
                    [
                      "male",
                      "northwest"
                    ],
                    [
                      "female",
                      "northeast"
                    ],
                    [
                      "female",
                      "northwest"
                    ],
                    [
                      "male",
                      "northeast"
                    ],
                    [
                      "female",
                      "southeast"
                    ],
                    [
                      "female",
                      "northwest"
                    ],
                    [
                      "female",
                      "southeast"
                    ],
                    [
                      "male",
                      "southeast"
                    ],
                    [
                      "male",
                      "southwest"
                    ],
                    [
                      "female",
                      "southwest"
                    ],
                    [
                      "male",
                      "southwest"
                    ],
                    [
                      "female",
                      "southeast"
                    ],
                    [
                      "male",
                      "southwest"
                    ],
                    [
                      "female",
                      "southwest"
                    ],
                    [
                      "female",
                      "southeast"
                    ],
                    [
                      "female",
                      "southwest"
                    ],
                    [
                      "female",
                      "northwest"
                    ],
                    [
                      "female",
                      "northwest"
                    ],
                    [
                      "male",
                      "northwest"
                    ],
                    [
                      "female",
                      "northeast"
                    ],
                    [
                      "female",
                      "northeast"
                    ],
                    [
                      "male",
                      "southwest"
                    ],
                    [
                      "female",
                      "southeast"
                    ],
                    [
                      "female",
                      "southwest"
                    ],
                    [
                      "female",
                      "northeast"
                    ],
                    [
                      "female",
                      "southwest"
                    ],
                    [
                      "female",
                      "southwest"
                    ],
                    [
                      "male",
                      "southwest"
                    ],
                    [
                      "male",
                      "northwest"
                    ],
                    [
                      "female",
                      "northwest"
                    ],
                    [
                      "male",
                      "southeast"
                    ],
                    [
                      "male",
                      "southeast"
                    ],
                    [
                      "male",
                      "southwest"
                    ],
                    [
                      "female",
                      "northeast"
                    ],
                    [
                      "female",
                      "northwest"
                    ],
                    [
                      "female",
                      "northwest"
                    ],
                    [
                      "female",
                      "southeast"
                    ],
                    [
                      "male",
                      "southeast"
                    ],
                    [
                      "female",
                      "northeast"
                    ],
                    [
                      "female",
                      "northeast"
                    ],
                    [
                      "female",
                      "southwest"
                    ],
                    [
                      "male",
                      "southeast"
                    ],
                    [
                      "female",
                      "northeast"
                    ],
                    [
                      "male",
                      "southeast"
                    ],
                    [
                      "male",
                      "northwest"
                    ],
                    [
                      "male",
                      "northeast"
                    ],
                    [
                      "male",
                      "southwest"
                    ],
                    [
                      "male",
                      "northeast"
                    ],
                    [
                      "female",
                      "southeast"
                    ],
                    [
                      "male",
                      "northwest"
                    ],
                    [
                      "female",
                      "northwest"
                    ],
                    [
                      "female",
                      "southwest"
                    ],
                    [
                      "female",
                      "southeast"
                    ],
                    [
                      "male",
                      "southwest"
                    ],
                    [
                      "male",
                      "northwest"
                    ],
                    [
                      "female",
                      "northwest"
                    ],
                    [
                      "male",
                      "southwest"
                    ],
                    [
                      "male",
                      "northeast"
                    ],
                    [
                      "female",
                      "southwest"
                    ],
                    [
                      "male",
                      "southeast"
                    ],
                    [
                      "male",
                      "northeast"
                    ],
                    [
                      "female",
                      "northwest"
                    ],
                    [
                      "male",
                      "northwest"
                    ],
                    [
                      "male",
                      "southeast"
                    ],
                    [
                      "male",
                      "northwest"
                    ],
                    [
                      "male",
                      "northeast"
                    ],
                    [
                      "female",
                      "northeast"
                    ],
                    [
                      "male",
                      "southeast"
                    ],
                    [
                      "female",
                      "northeast"
                    ],
                    [
                      "male",
                      "southwest"
                    ],
                    [
                      "female",
                      "southeast"
                    ],
                    [
                      "female",
                      "southwest"
                    ],
                    [
                      "female",
                      "southwest"
                    ],
                    [
                      "male",
                      "northwest"
                    ],
                    [
                      "female",
                      "northeast"
                    ],
                    [
                      "female",
                      "southeast"
                    ],
                    [
                      "female",
                      "southwest"
                    ]
                  ],
                  "hovertemplate": "smoker=no<br>age=%{x}<br>charges=%{y}<br>bmi=%{marker.size}<br>sex=%{customdata[0]}<br>region=%{customdata[1]}<extra></extra>",
                  "legendgroup": "no",
                  "marker": {
                    "color": "#EF553B",
                    "size": {
                      "bdata": "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",
                      "dtype": "f8"
                    },
                    "sizemode": "area",
                    "sizeref": 0.132825,
                    "symbol": "circle"
                  },
                  "mode": "markers",
                  "name": "no",
                  "showlegend": true,
                  "type": "scattergl",
                  "x": {
                    "bdata": "EhwhIB8uJSU8GRc4EzQXODweEiU7PzcXEhM/Ez4aGB8pJSY3Ehw8EhUoOiIrGUAcEz0oKB81Oiw5HRUWKR8tMDguNxU1Ixw2NykeEiITGh02NyUVNDw6MSUsEhQvGjQmOz01ExQWExY2FiIaHR0zNRMjMCAoLDI2ICUvFCATGz8xEiMYJjYuKToSFiwsGh4pHT0kGTgSEyctM0ATMDwuHDs/KBQoGCItKTUbGhgiNSA3HDopLyo7EzsnEh8sITcoNjwYEx0bNyYzOjU7LTESKTIZLxMWOzMeNzQuLj80HB0WGRIwJDgcOR0cHjopMhMxNDI2LCAiGjkdKBs0PTgrQDw+Lhg+PD8xIiEuJBM5Mh4hEi4uLxcSMCMVFTE4KiwSPTkqFEA+NyMsEzoyGhgwEzAxLi4rFUASMy9AMR80IS8mIBMZEys0QBkwLSYSFRsTHSo8HzwWIzQaHxI7LTw4KCMnHhgUIDs3OTgoMT44Ezw4HBIbEhMvGRUXPzESMzAfNhM1Ez0SPRQfLSw+KyYlFhUYOTgbMxM6FC0jHzIgMyYSEzMuEj47JUAmIS4uNSIUPzYcNhk/ID40GRwuIhMuNhsyEhMmKTEfEh4+OToWNBk7JyATIRU9JjovFCkuKiIrNBIzOEAzGxwvJhIiFDg3HjE7HSQhOjUYHSgzQBMjOCE9FyswJygSOjE1MC07GhswOSU5IBIxKB4dJCktNzgxFRM1ITUqKC8VLxQYGxo1OBcVMjUiLyExHyQSMisUGDwxPDM6MzU+EzIpEik1GDA7MRotHzIyIhMvHBVAOhgfJx4WFxstOS8qQCY9NSwpMygtIzUSMx8jPBUdPicTFiceHjoqQBUXLSgTEhkuITYcJBQYFy0aEiw8QCc/JBw6JCokOCM7FTs1MxcbNz01FBk5JjckMygSOT0ZMhoqKywXMSEpJRYXFRkkFjkkNj49ExITMRoxPBobLD8WOywhGD0jPj4mIisyEzk+KRonLi0gOywnEjUSMhITPjgqKjkeHxgwEx0/LjQjLBUnMiIWExowGi0kNiIbFCwrLSIaJjImJyc/ISQYMC8dHBkzMD0wJjsTGjYVMxIvFRc2JR49NhYTEhw3KxksQDEbNzAtGCAYOSQdKjAnPzY/FTY8IC8VPxIgJiA+Nzk0ODcXMhIWNBk1HTolNjEyGi02HBc3KR4uGz83IyITJxs5NBwyLBohMik0JzI0FDcqEjojMCQXFCArIh4SKSM5HSAlOCYdFigXKhgZMC0+Fx8pOjAfEykoHyUuFjMjOzskJxI0GxIoHSYeKDIpISYqODo2Oi0aPzolGRYcEhwtIRITKCIqMzY3NCAcKSsxNxQtGhkrIzkWIBkwEi8cJCwmFS46FBIcIRMZGCkqISISExIjJx8+Hz0qMxc0ORc0MhISFQ==",
                    "dtype": "i1"
                  },
                  "xaxis": "x",
                  "y": {
                    "bdata": "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",
                    "dtype": "f8"
                  },
                  "yaxis": "y"
                }
              ],
              "layout": {
                "legend": {
                  "itemsizing": "constant",
                  "title": {
                    "text": "smoker"
                  },
                  "tracegroupgap": 0
                },
                "template": {
                  "data": {
                    "bar": [
                      {
                        "error_x": {
                          "color": "#2a3f5f"
                        },
                        "error_y": {
                          "color": "#2a3f5f"
                        },
                        "marker": {
                          "line": {
                            "color": "#E5ECF6",
                            "width": 0.5
                          },
                          "pattern": {
                            "fillmode": "overlay",
                            "size": 10,
                            "solidity": 0.2
                          }
                        },
                        "type": "bar"
                      }
                    ],
                    "barpolar": [
                      {
                        "marker": {
                          "line": {
                            "color": "#E5ECF6",
                            "width": 0.5
                          },
                          "pattern": {
                            "fillmode": "overlay",
                            "size": 10,
                            "solidity": 0.2
                          }
                        },
                        "type": "barpolar"
                      }
                    ],
                    "carpet": [
                      {
                        "aaxis": {
                          "endlinecolor": "#2a3f5f",
                          "gridcolor": "white",
                          "linecolor": "white",
                          "minorgridcolor": "white",
                          "startlinecolor": "#2a3f5f"
                        },
                        "baxis": {
                          "endlinecolor": "#2a3f5f",
                          "gridcolor": "white",
                          "linecolor": "white",
                          "minorgridcolor": "white",
                          "startlinecolor": "#2a3f5f"
                        },
                        "type": "carpet"
                      }
                    ],
                    "choropleth": [
                      {
                        "colorbar": {
                          "outlinewidth": 0,
                          "ticks": ""
                        },
                        "type": "choropleth"
                      }
                    ],
                    "contour": [
                      {
                        "colorbar": {
                          "outlinewidth": 0,
                          "ticks": ""
                        },
                        "colorscale": [
                          [
                            0,
                            "#0d0887"
                          ],
                          [
                            0.1111111111111111,
                            "#46039f"
                          ],
                          [
                            0.2222222222222222,
                            "#7201a8"
                          ],
                          [
                            0.3333333333333333,
                            "#9c179e"
                          ],
                          [
                            0.4444444444444444,
                            "#bd3786"
                          ],
                          [
                            0.5555555555555556,
                            "#d8576b"
                          ],
                          [
                            0.6666666666666666,
                            "#ed7953"
                          ],
                          [
                            0.7777777777777778,
                            "#fb9f3a"
                          ],
                          [
                            0.8888888888888888,
                            "#fdca26"
                          ],
                          [
                            1,
                            "#f0f921"
                          ]
                        ],
                        "type": "contour"
                      }
                    ],
                    "contourcarpet": [
                      {
                        "colorbar": {
                          "outlinewidth": 0,
                          "ticks": ""
                        },
                        "type": "contourcarpet"
                      }
                    ],
                    "heatmap": [
                      {
                        "colorbar": {
                          "outlinewidth": 0,
                          "ticks": ""
                        },
                        "colorscale": [
                          [
                            0,
                            "#0d0887"
                          ],
                          [
                            0.1111111111111111,
                            "#46039f"
                          ],
                          [
                            0.2222222222222222,
                            "#7201a8"
                          ],
                          [
                            0.3333333333333333,
                            "#9c179e"
                          ],
                          [
                            0.4444444444444444,
                            "#bd3786"
                          ],
                          [
                            0.5555555555555556,
                            "#d8576b"
                          ],
                          [
                            0.6666666666666666,
                            "#ed7953"
                          ],
                          [
                            0.7777777777777778,
                            "#fb9f3a"
                          ],
                          [
                            0.8888888888888888,
                            "#fdca26"
                          ],
                          [
                            1,
                            "#f0f921"
                          ]
                        ],
                        "type": "heatmap"
                      }
                    ],
                    "histogram": [
                      {
                        "marker": {
                          "pattern": {
                            "fillmode": "overlay",
                            "size": 10,
                            "solidity": 0.2
                          }
                        },
                        "type": "histogram"
                      }
                    ],
                    "histogram2d": [
                      {
                        "colorbar": {
                          "outlinewidth": 0,
                          "ticks": ""
                        },
                        "colorscale": [
                          [
                            0,
                            "#0d0887"
                          ],
                          [
                            0.1111111111111111,
                            "#46039f"
                          ],
                          [
                            0.2222222222222222,
                            "#7201a8"
                          ],
                          [
                            0.3333333333333333,
                            "#9c179e"
                          ],
                          [
                            0.4444444444444444,
                            "#bd3786"
                          ],
                          [
                            0.5555555555555556,
                            "#d8576b"
                          ],
                          [
                            0.6666666666666666,
                            "#ed7953"
                          ],
                          [
                            0.7777777777777778,
                            "#fb9f3a"
                          ],
                          [
                            0.8888888888888888,
                            "#fdca26"
                          ],
                          [
                            1,
                            "#f0f921"
                          ]
                        ],
                        "type": "histogram2d"
                      }
                    ],
                    "histogram2dcontour": [
                      {
                        "colorbar": {
                          "outlinewidth": 0,
                          "ticks": ""
                        },
                        "colorscale": [
                          [
                            0,
                            "#0d0887"
                          ],
                          [
                            0.1111111111111111,
                            "#46039f"
                          ],
                          [
                            0.2222222222222222,
                            "#7201a8"
                          ],
                          [
                            0.3333333333333333,
                            "#9c179e"
                          ],
                          [
                            0.4444444444444444,
                            "#bd3786"
                          ],
                          [
                            0.5555555555555556,
                            "#d8576b"
                          ],
                          [
                            0.6666666666666666,
                            "#ed7953"
                          ],
                          [
                            0.7777777777777778,
                            "#fb9f3a"
                          ],
                          [
                            0.8888888888888888,
                            "#fdca26"
                          ],
                          [
                            1,
                            "#f0f921"
                          ]
                        ],
                        "type": "histogram2dcontour"
                      }
                    ],
                    "mesh3d": [
                      {
                        "colorbar": {
                          "outlinewidth": 0,
                          "ticks": ""
                        },
                        "type": "mesh3d"
                      }
                    ],
                    "parcoords": [
                      {
                        "line": {
                          "colorbar": {
                            "outlinewidth": 0,
                            "ticks": ""
                          }
                        },
                        "type": "parcoords"
                      }
                    ],
                    "pie": [
                      {
                        "automargin": true,
                        "type": "pie"
                      }
                    ],
                    "scatter": [
                      {
                        "fillpattern": {
                          "fillmode": "overlay",
                          "size": 10,
                          "solidity": 0.2
                        },
                        "type": "scatter"
                      }
                    ],
                    "scatter3d": [
                      {
                        "line": {
                          "colorbar": {
                            "outlinewidth": 0,
                            "ticks": ""
                          }
                        },
                        "marker": {
                          "colorbar": {
                            "outlinewidth": 0,
                            "ticks": ""
                          }
                        },
                        "type": "scatter3d"
                      }
                    ],
                    "scattercarpet": [
                      {
                        "marker": {
                          "colorbar": {
                            "outlinewidth": 0,
                            "ticks": ""
                          }
                        },
                        "type": "scattercarpet"
                      }
                    ],
                    "scattergeo": [
                      {
                        "marker": {
                          "colorbar": {
                            "outlinewidth": 0,
                            "ticks": ""
                          }
                        },
                        "type": "scattergeo"
                      }
                    ],
                    "scattergl": [
                      {
                        "marker": {
                          "colorbar": {
                            "outlinewidth": 0,
                            "ticks": ""
                          }
                        },
                        "type": "scattergl"
                      }
                    ],
                    "scattermap": [
                      {
                        "marker": {
                          "colorbar": {
                            "outlinewidth": 0,
                            "ticks": ""
                          }
                        },
                        "type": "scattermap"
                      }
                    ],
                    "scattermapbox": [
                      {
                        "marker": {
                          "colorbar": {
                            "outlinewidth": 0,
                            "ticks": ""
                          }
                        },
                        "type": "scattermapbox"
                      }
                    ],
                    "scatterpolar": [
                      {
                        "marker": {
                          "colorbar": {
                            "outlinewidth": 0,
                            "ticks": ""
                          }
                        },
                        "type": "scatterpolar"
                      }
                    ],
                    "scatterpolargl": [
                      {
                        "marker": {
                          "colorbar": {
                            "outlinewidth": 0,
                            "ticks": ""
                          }
                        },
                        "type": "scatterpolargl"
                      }
                    ],
                    "scatterternary": [
                      {
                        "marker": {
                          "colorbar": {
                            "outlinewidth": 0,
                            "ticks": ""
                          }
                        },
                        "type": "scatterternary"
                      }
                    ],
                    "surface": [
                      {
                        "colorbar": {
                          "outlinewidth": 0,
                          "ticks": ""
                        },
                        "colorscale": [
                          [
                            0,
                            "#0d0887"
                          ],
                          [
                            0.1111111111111111,
                            "#46039f"
                          ],
                          [
                            0.2222222222222222,
                            "#7201a8"
                          ],
                          [
                            0.3333333333333333,
                            "#9c179e"
                          ],
                          [
                            0.4444444444444444,
                            "#bd3786"
                          ],
                          [
                            0.5555555555555556,
                            "#d8576b"
                          ],
                          [
                            0.6666666666666666,
                            "#ed7953"
                          ],
                          [
                            0.7777777777777778,
                            "#fb9f3a"
                          ],
                          [
                            0.8888888888888888,
                            "#fdca26"
                          ],
                          [
                            1,
                            "#f0f921"
                          ]
                        ],
                        "type": "surface"
                      }
                    ],
                    "table": [
                      {
                        "cells": {
                          "fill": {
                            "color": "#EBF0F8"
                          },
                          "line": {
                            "color": "white"
                          }
                        },
                        "header": {
                          "fill": {
                            "color": "#C8D4E3"
                          },
                          "line": {
                            "color": "white"
                          }
                        },
                        "type": "table"
                      }
                    ]
                  },
                  "layout": {
                    "annotationdefaults": {
                      "arrowcolor": "#2a3f5f",
                      "arrowhead": 0,
                      "arrowwidth": 1
                    },
                    "autotypenumbers": "strict",
                    "coloraxis": {
                      "colorbar": {
                        "outlinewidth": 0,
                        "ticks": ""
                      }
                    },
                    "colorscale": {
                      "diverging": [
                        [
                          0,
                          "#8e0152"
                        ],
                        [
                          0.1,
                          "#c51b7d"
                        ],
                        [
                          0.2,
                          "#de77ae"
                        ],
                        [
                          0.3,
                          "#f1b6da"
                        ],
                        [
                          0.4,
                          "#fde0ef"
                        ],
                        [
                          0.5,
                          "#f7f7f7"
                        ],
                        [
                          0.6,
                          "#e6f5d0"
                        ],
                        [
                          0.7,
                          "#b8e186"
                        ],
                        [
                          0.8,
                          "#7fbc41"
                        ],
                        [
                          0.9,
                          "#4d9221"
                        ],
                        [
                          1,
                          "#276419"
                        ]
                      ],
                      "sequential": [
                        [
                          0,
                          "#0d0887"
                        ],
                        [
                          0.1111111111111111,
                          "#46039f"
                        ],
                        [
                          0.2222222222222222,
                          "#7201a8"
                        ],
                        [
                          0.3333333333333333,
                          "#9c179e"
                        ],
                        [
                          0.4444444444444444,
                          "#bd3786"
                        ],
                        [
                          0.5555555555555556,
                          "#d8576b"
                        ],
                        [
                          0.6666666666666666,
                          "#ed7953"
                        ],
                        [
                          0.7777777777777778,
                          "#fb9f3a"
                        ],
                        [
                          0.8888888888888888,
                          "#fdca26"
                        ],
                        [
                          1,
                          "#f0f921"
                        ]
                      ],
                      "sequentialminus": [
                        [
                          0,
                          "#0d0887"
                        ],
                        [
                          0.1111111111111111,
                          "#46039f"
                        ],
                        [
                          0.2222222222222222,
                          "#7201a8"
                        ],
                        [
                          0.3333333333333333,
                          "#9c179e"
                        ],
                        [
                          0.4444444444444444,
                          "#bd3786"
                        ],
                        [
                          0.5555555555555556,
                          "#d8576b"
                        ],
                        [
                          0.6666666666666666,
                          "#ed7953"
                        ],
                        [
                          0.7777777777777778,
                          "#fb9f3a"
                        ],
                        [
                          0.8888888888888888,
                          "#fdca26"
                        ],
                        [
                          1,
                          "#f0f921"
                        ]
                      ]
                    },
                    "colorway": [
                      "#636efa",
                      "#EF553B",
                      "#00cc96",
                      "#ab63fa",
                      "#FFA15A",
                      "#19d3f3",
                      "#FF6692",
                      "#B6E880",
                      "#FF97FF",
                      "#FECB52"
                    ],
                    "font": {
                      "color": "#2a3f5f"
                    },
                    "geo": {
                      "bgcolor": "white",
                      "lakecolor": "white",
                      "landcolor": "#E5ECF6",
                      "showlakes": true,
                      "showland": true,
                      "subunitcolor": "white"
                    },
                    "hoverlabel": {
                      "align": "left"
                    },
                    "hovermode": "closest",
                    "mapbox": {
                      "style": "light"
                    },
                    "paper_bgcolor": "white",
                    "plot_bgcolor": "#E5ECF6",
                    "polar": {
                      "angularaxis": {
                        "gridcolor": "white",
                        "linecolor": "white",
                        "ticks": ""
                      },
                      "bgcolor": "#E5ECF6",
                      "radialaxis": {
                        "gridcolor": "white",
                        "linecolor": "white",
                        "ticks": ""
                      }
                    },
                    "scene": {
                      "xaxis": {
                        "backgroundcolor": "#E5ECF6",
                        "gridcolor": "white",
                        "gridwidth": 2,
                        "linecolor": "white",
                        "showbackground": true,
                        "ticks": "",
                        "zerolinecolor": "white"
                      },
                      "yaxis": {
                        "backgroundcolor": "#E5ECF6",
                        "gridcolor": "white",
                        "gridwidth": 2,
                        "linecolor": "white",
                        "showbackground": true,
                        "ticks": "",
                        "zerolinecolor": "white"
                      },
                      "zaxis": {
                        "backgroundcolor": "#E5ECF6",
                        "gridcolor": "white",
                        "gridwidth": 2,
                        "linecolor": "white",
                        "showbackground": true,
                        "ticks": "",
                        "zerolinecolor": "white"
                      }
                    },
                    "shapedefaults": {
                      "line": {
                        "color": "#2a3f5f"
                      }
                    },
                    "ternary": {
                      "aaxis": {
                        "gridcolor": "white",
                        "linecolor": "white",
                        "ticks": ""
                      },
                      "baxis": {
                        "gridcolor": "white",
                        "linecolor": "white",
                        "ticks": ""
                      },
                      "bgcolor": "#E5ECF6",
                      "caxis": {
                        "gridcolor": "white",
                        "linecolor": "white",
                        "ticks": ""
                      }
                    },
                    "title": {
                      "x": 0.05
                    },
                    "xaxis": {
                      "automargin": true,
                      "gridcolor": "white",
                      "linecolor": "white",
                      "ticks": "",
                      "title": {
                        "standoff": 15
                      },
                      "zerolinecolor": "white",
                      "zerolinewidth": 2
                    },
                    "yaxis": {
                      "automargin": true,
                      "gridcolor": "white",
                      "linecolor": "white",
                      "ticks": "",
                      "title": {
                        "standoff": 15
                      },
                      "zerolinecolor": "white",
                      "zerolinewidth": 2
                    }
                  }
                },
                "title": {
                  "text": "Interactive: Age vs Charges by Smoker"
                },
                "xaxis": {
                  "anchor": "y",
                  "domain": [
                    0,
                    1
                  ],
                  "title": {
                    "text": "age"
                  }
                },
                "yaxis": {
                  "anchor": "x",
                  "domain": [
                    0,
                    1
                  ],
                  "title": {
                    "text": "charges"
                  }
                }
              }
            }
          },
          "metadata": {},
          "output_type": "display_data"
        }
      ],
      "source": [
        "# Interactive Visualization\n",
        "\n",
        "fig = px.scatter(df, x='age', y='charges', color='smoker', size='bmi',\n",
        "                 hover_data=['sex', 'region'],\n",
        "                 title=\"Interactive: Age vs Charges by Smoker\")\n",
        "fig.show()"
      ]
    },
    {
      "cell_type": "markdown",
      "metadata": {
        "id": "QuPZmKfxLjt-"
      },
      "source": [
        "* Scatterplot with custom color, size, hover using plotly\n",
        "\n",
        "* Great for dashboards, you can zoom, explore outliers, and tell data stories interactively.\n"
      ]
    },
    {
      "cell_type": "code",
      "execution_count": 25,
      "metadata": {
        "id": "hWPD7fQrL1Uq"
      },
      "outputs": [],
      "source": [
        "# Saving Cleaned Dataset\n",
        "\n",
        "df.to_csv('C:/Users/harsh/Downloads/AlmaBetter/EDA-ML-ALGO/insurance-charges-prediction/data/cleaned_insurance.csv', index=False)"
      ]
    }
  ],
  "metadata": {
    "colab": {
      "provenance": []
    },
    "kernelspec": {
      "display_name": "base",
      "language": "python",
      "name": "python3"
    },
    "language_info": {
      "codemirror_mode": {
        "name": "ipython",
        "version": 3
      },
      "file_extension": ".py",
      "mimetype": "text/x-python",
      "name": "python",
      "nbconvert_exporter": "python",
      "pygments_lexer": "ipython3",
      "version": "3.12.7"
    }
  },
  "nbformat": 4,
  "nbformat_minor": 0
}
