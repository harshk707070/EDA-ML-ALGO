{
  "cells": [
    {
      "cell_type": "markdown",
      "metadata": {
        "id": "K0AoTuogYueP"
      },
      "source": [
        "# Modeling & Prediction\n",
        "\n",
        "---\n",
        "\n",
        "**Dataset: Insurance Charges**\n",
        "\n",
        "**Goal: Build a model to predict insurance charges using features like age, BMI, smoker status, etc.**"
      ]
    },
    {
      "cell_type": "code",
      "execution_count": 35,
      "metadata": {},
      "outputs": [
        {
          "name": "stdout",
          "output_type": "stream",
          "text": [
            "Requirement already satisfied: pandas in c:\\users\\harsh\\anaconda3\\lib\\site-packages (2.3.0)\n",
            "Requirement already satisfied: numpy in c:\\users\\harsh\\anaconda3\\lib\\site-packages (2.3.0)\n",
            "Requirement already satisfied: scikit-learn in c:\\users\\harsh\\anaconda3\\lib\\site-packages (1.7.0)\n",
            "Requirement already satisfied: joblib in c:\\users\\harsh\\anaconda3\\lib\\site-packages (1.5.1)\n",
            "Requirement already satisfied: python-dateutil>=2.8.2 in c:\\users\\harsh\\appdata\\roaming\\python\\python312\\site-packages (from pandas) (2.9.0.post0)\n",
            "Requirement already satisfied: pytz>=2020.1 in c:\\users\\harsh\\anaconda3\\lib\\site-packages (from pandas) (2024.1)\n",
            "Requirement already satisfied: tzdata>=2022.7 in c:\\users\\harsh\\anaconda3\\lib\\site-packages (from pandas) (2025.2)\n",
            "Requirement already satisfied: scipy>=1.8.0 in c:\\users\\harsh\\anaconda3\\lib\\site-packages (from scikit-learn) (1.15.3)\n",
            "Requirement already satisfied: threadpoolctl>=3.1.0 in c:\\users\\harsh\\anaconda3\\lib\\site-packages (from scikit-learn) (3.6.0)\n",
            "Requirement already satisfied: six>=1.5 in c:\\users\\harsh\\appdata\\roaming\\python\\python312\\site-packages (from python-dateutil>=2.8.2->pandas) (1.16.0)\n"
          ]
        }
      ],
      "source": [
        "# Install necessary packages\n",
        "!pip install pandas numpy scikit-learn joblib"
      ]
    },
    {
      "cell_type": "code",
      "execution_count": 36,
      "metadata": {},
      "outputs": [],
      "source": [
        "# Import necessary libraries\n",
        "import pandas as pd\n",
        "import numpy as np\n",
        "import os\n",
        "import joblib\n",
        "\n",
        "from sklearn.model_selection import train_test_split\n",
        "from sklearn.ensemble import RandomForestRegressor\n",
        "from sklearn.metrics import mean_absolute_error, mean_squared_error, r2_score\n",
        "from sklearn.preprocessing import LabelEncoder"
      ]
    },
    {
      "cell_type": "code",
      "execution_count": 37,
      "metadata": {},
      "outputs": [],
      "source": [
        "# Load your dataset\n",
        "df = pd.read_csv(\"C:/Users/harsh/Downloads/AlmaBetter/EDA-ML-ALGO/insurance-charges-prediction/data/cleaned_insurance.csv\")"
      ]
    },
    {
      "cell_type": "code",
      "execution_count": 38,
      "metadata": {},
      "outputs": [
        {
          "name": "stdout",
          "output_type": "stream",
          "text": [
            "Dropping age_group column...\n"
          ]
        },
        {
          "data": {
            "text/plain": [
              "['models/label_encoders.pkl']"
            ]
          },
          "execution_count": 38,
          "metadata": {},
          "output_type": "execute_result"
        }
      ],
      "source": [
        "# Drop 'age_group' column if it exists\n",
        "if 'age_group' in df.columns:\n",
        "    print(\"Dropping age_group column...\")\n",
        "    df.drop('age_group', axis=1, inplace=True)\n",
        "\n",
        "# Encode categorical features using LabelEncoder\n",
        "categorical_cols = ['sex', 'smoker', 'region']\n",
        "label_encoders = {}\n",
        "\n",
        "for col in categorical_cols:\n",
        "    le = LabelEncoder()\n",
        "    df[col] = le.fit_transform(df[col])\n",
        "    label_encoders[col] = le\n",
        "\n",
        "# Save encoders\n",
        "os.makedirs(\"models\", exist_ok=True)\n",
        "joblib.dump(label_encoders, \"models/label_encoders.pkl\")"
      ]
    },
    {
      "cell_type": "markdown",
      "metadata": {
        "id": "0sZYszftZbGv"
      },
      "source": [
        "* LabelEncoder: converts categories to numbers.\n",
        "* Label Encoding for Categorical Columns\n",
        "* Many ML models require all input features to be numeric.\n",
        "* So, we convert text labels (e.g., 'male', 'female') into numbers using LabelEncoder.\n",
        "* This ensures consistency between training and prediction.\n",
        "* It's especially important for models like Linear Regression, which cannot handle strings."
      ]
    },
    {
      "cell_type": "code",
      "execution_count": 40,
      "metadata": {},
      "outputs": [],
      "source": [
        "# Create features and target\n",
        "X = df.drop(\"charges\", axis=1)\n",
        "y = df[\"charges\"]\n",
        "\n",
        "# Train-test split\n",
        "X_train, X_test, y_train, y_test = train_test_split(X, y, test_size=0.2, random_state=42)"
      ]
    },
    {
      "cell_type": "markdown",
      "metadata": {
        "id": "neRtNGTGc4ka"
      },
      "source": [
        "* Randomly splits the dataset — so we can test our model’s performance on data it hasn’t seen before.\n",
        "\n",
        "* It prevents overfitting and helps simulate real-world prediction."
      ]
    },
    {
      "cell_type": "code",
      "execution_count": 41,
      "metadata": {},
      "outputs": [
        {
          "data": {
            "text/plain": [
              "['models/random_forest_model.pkl']"
            ]
          },
          "execution_count": 41,
          "metadata": {},
          "output_type": "execute_result"
        }
      ],
      "source": [
        "# Train model\n",
        "model = RandomForestRegressor(random_state=42)\n",
        "model.fit(X_train, y_train)\n",
        "\n",
        "# Save model\n",
        "joblib.dump(model, \"models/random_forest_model.pkl\")"
      ]
    },
    {
      "cell_type": "markdown",
      "metadata": {
        "id": "b0M8ta9mjqtp"
      },
      "source": [
        "* Random Forest is an ensemble method\n",
        "* It builds multiple decision trees and averages them.\n",
        "\n",
        "* No need for scaling because tree models split data based on thresholds, not values.\n",
        "\n",
        "* It is more accurate than linear regression in many real-world problems.\n",
        "\n",
        "* Handles non-linearity and feature interactions better."
      ]
    },
    {
      "cell_type": "code",
      "execution_count": 42,
      "metadata": {},
      "outputs": [
        {
          "name": "stdout",
          "output_type": "stream",
          "text": [
            "MAE : 2555.9294270283576\n",
            "RMSE: 4628.2660316436195\n",
            "R²  : 0.8834278119122363\n"
          ]
        }
      ],
      "source": [
        "# Evaluate model\n",
        "y_pred = model.predict(X_test)\n",
        "print(\"MAE :\", mean_absolute_error(y_test, y_pred))\n",
        "print(\"RMSE:\", np.sqrt(mean_squared_error(y_test, y_pred)))\n",
        "print(\"R²  :\", r2_score(y_test, y_pred))\n"
      ]
    }
  ],
  "metadata": {
    "colab": {
      "provenance": []
    },
    "kernelspec": {
      "display_name": "base",
      "language": "python",
      "name": "python3"
    },
    "language_info": {
      "codemirror_mode": {
        "name": "ipython",
        "version": 3
      },
      "file_extension": ".py",
      "mimetype": "text/x-python",
      "name": "python",
      "nbconvert_exporter": "python",
      "pygments_lexer": "ipython3",
      "version": "3.12.7"
    }
  },
  "nbformat": 4,
  "nbformat_minor": 0
}
